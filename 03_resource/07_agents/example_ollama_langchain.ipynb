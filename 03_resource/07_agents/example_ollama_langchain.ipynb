{
 "cells": [
  {
   "cell_type": "code",
   "execution_count": 5,
   "id": "e729b032",
   "metadata": {},
   "outputs": [],
   "source": [
    "from langchain_ollama import ChatOllama\n",
    "from langchain_core.messages import AIMessage"
   ]
  },
  {
   "cell_type": "code",
   "execution_count": 6,
   "id": "52a66963",
   "metadata": {},
   "outputs": [],
   "source": [
    "llm = ChatOllama(\n",
    "    model=\"qwen2.5-coder:7b\",\n",
    "    temperature=0,\n",
    "    # other params...\n",
    ")"
   ]
  },
  {
   "cell_type": "code",
   "execution_count": 7,
   "id": "0640cbc0",
   "metadata": {},
   "outputs": [
    {
     "data": {
      "text/plain": [
       "AIMessage(content='Je aime programmer.', additional_kwargs={}, response_metadata={'model': 'qwen2.5-coder:7b', 'created_at': '2025-05-09T07:58:02.3032789Z', 'done': True, 'done_reason': 'stop', 'total_duration': 1228015000, 'load_duration': 27580000, 'prompt_eval_count': 33, 'prompt_eval_duration': 547236600, 'eval_count': 5, 'eval_duration': 650015400, 'model_name': 'qwen2.5-coder:7b'}, id='run--a385355f-4780-4438-9876-c214cdc61c00-0', usage_metadata={'input_tokens': 33, 'output_tokens': 5, 'total_tokens': 38})"
      ]
     },
     "execution_count": 7,
     "metadata": {},
     "output_type": "execute_result"
    }
   ],
   "source": [
    "messages = [\n",
    "    (\n",
    "        \"system\",\n",
    "        \"You are a helpful assistant that translates English to French. Translate the user sentence.\",\n",
    "    ),\n",
    "    (\"human\", \"I love programming.\"),\n",
    "]\n",
    "ai_msg = llm.invoke(messages)\n",
    "ai_msg"
   ]
  },
  {
   "cell_type": "code",
   "execution_count": 1,
   "id": "25cd15e0",
   "metadata": {},
   "outputs": [],
   "source": [
    "#imports from other directory\n",
    "import sys, os\n",
    "sys.path.insert(0, os.path.abspath('../../00_src'))\n",
    "from agents.agent_ollama import AgentOllama\n",
    "del sys.path[0]"
   ]
  },
  {
   "cell_type": "code",
   "execution_count": 4,
   "id": "61fd6173",
   "metadata": {},
   "outputs": [
    {
     "data": {
      "text/plain": [
       "'Hello! How can I assist you today?'"
      ]
     },
     "execution_count": 4,
     "metadata": {},
     "output_type": "execute_result"
    }
   ],
   "source": [
    "testee = AgentOllama(\"qwen2.5-coder:7b\")\n",
    "\n",
    "testee.prompt([(\"human\", \"hello\")])"
   ]
  },
  {
   "cell_type": "code",
   "execution_count": 5,
   "id": "93990449",
   "metadata": {},
   "outputs": [
    {
     "data": {
      "text/plain": [
       "[('human', 'hello'), ('ai', 'Hello! How can I assist you today?')]"
      ]
     },
     "execution_count": 5,
     "metadata": {},
     "output_type": "execute_result"
    }
   ],
   "source": [
    "testee.chain"
   ]
  }
 ],
 "metadata": {
  "kernelspec": {
   "display_name": "venv",
   "language": "python",
   "name": "python3"
  },
  "language_info": {
   "codemirror_mode": {
    "name": "ipython",
    "version": 3
   },
   "file_extension": ".py",
   "mimetype": "text/x-python",
   "name": "python",
   "nbconvert_exporter": "python",
   "pygments_lexer": "ipython3",
   "version": "3.10.0"
  }
 },
 "nbformat": 4,
 "nbformat_minor": 5
}
