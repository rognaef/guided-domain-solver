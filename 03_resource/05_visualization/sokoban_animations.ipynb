{
 "cells": [
  {
   "cell_type": "code",
   "execution_count": 1,
   "id": "88c38d9b",
   "metadata": {},
   "outputs": [],
   "source": [
    "import numpy as np\n",
    "from gym.spaces.discrete import Discrete\n",
    "from gym_sokoban.envs import SokobanEnv\n",
    "import matplotlib.pyplot as plt\n",
    "from matplotlib.animation import FuncAnimation, PillowWriter\n",
    "from functools import partial\n",
    "%matplotlib inline"
   ]
  },
  {
   "cell_type": "code",
   "execution_count": 2,
   "id": "70a7630d",
   "metadata": {},
   "outputs": [],
   "source": [
    "class SokobanEnvFixated(SokobanEnv): \n",
    "    def __init__(self):\n",
    "        SokobanEnv.__init__(self,\n",
    "                            dim_room=(10, 10), \n",
    "                            max_steps=40, \n",
    "                            num_boxes=4, \n",
    "                            num_gen_steps=None, \n",
    "                            reset=True)\n",
    "        self.action_space = Discrete(5) # limit to push actions\n",
    "\n",
    "    def reset(self, second_player=False, render_mode='rgb_array'):\n",
    "\n",
    "        self.room_fixed = np.array([[0, 0, 0, 0, 0, 0, 0, 0, 0, 0],\n",
    "                                    [0, 0, 0, 0, 0, 0, 0, 0, 0, 0],\n",
    "                                    [0, 0, 0, 0, 0, 0, 0, 0, 0, 0],\n",
    "                                    [0, 0, 0, 1, 1, 0, 1, 0, 0, 0],\n",
    "                                    [0, 1, 1, 1, 1, 2, 1, 1, 1, 0],\n",
    "                                    [0, 1, 1, 1, 2, 1, 1, 1, 1, 0],\n",
    "                                    [0, 1, 1, 1, 0, 1, 1, 2, 1, 0],\n",
    "                                    [0, 2, 1, 0, 0, 0, 0, 0, 0, 0],\n",
    "                                    [0, 1, 1, 0, 0, 0, 0, 0, 0, 0],\n",
    "                                    [0, 0, 0, 0, 0, 0, 0, 0, 0, 0]])\n",
    "        self.room_state = np.array([[0, 0, 0, 0, 0, 0, 0, 0, 0, 0],\n",
    "                                    [0, 0, 0, 0, 0, 0, 0, 0, 0, 0],\n",
    "                                    [0, 0, 0, 0, 0, 0, 0, 0, 0, 0],\n",
    "                                    [0, 0, 0, 1, 1, 0, 1, 0, 0, 0],\n",
    "                                    [0, 1, 1, 4, 5, 2, 1, 1, 1, 0],\n",
    "                                    [0, 1, 1, 1, 2, 4, 1, 4, 1, 0],\n",
    "                                    [0, 1, 1, 1, 0, 1, 1, 2, 1, 0],\n",
    "                                    [0, 2, 4, 0, 0, 0, 0, 0, 0, 0],\n",
    "                                    [0, 1, 1, 0, 0, 0, 0, 0, 0, 0],\n",
    "                                    [0, 0, 0, 0, 0, 0, 0, 0, 0, 0]])\n",
    "        self.box_mapping = {(6, 7): (5, 7), (5, 4): (5, 5), (4, 5): (4, 3), (7, 1): (7, 2)}\n",
    "\n",
    "        self.player_position = np.argwhere(self.room_state == 5)[0]\n",
    "        self.num_env_steps = 0\n",
    "        self.reward_last = 0\n",
    "        self.boxes_on_target = 0\n",
    "\n",
    "        starting_observation = self.render(render_mode)\n",
    "        return starting_observation # Close environment after testing"
   ]
  },
  {
   "cell_type": "code",
   "execution_count": 3,
   "id": "d25148ea",
   "metadata": {},
   "outputs": [],
   "source": [
    "UP, DOWN, LEFT, RIGHT = 1, 2, 3, 4\n",
    "directions = {UP:(0,-1), DOWN:(0,1), LEFT:(-1,0), RIGHT:(1,0)}\n",
    "findPlayer = lambda room_state: next((x, y) for y, row in enumerate(room_state) for x, val in enumerate(row) if val == 5)\n",
    "\n",
    "def take_step(env, path, step, fig, draw_arrows):\n",
    "    if not draw_arrows:\n",
    "        env.step(path[step])\n",
    "        return\n",
    "    \n",
    "    # reset\n",
    "    for text in fig.gca().texts:\n",
    "        text.remove()\n",
    "    env.reset()\n",
    "\n",
    "    # Convert path to coordinates\n",
    "    player_coordinates = []\n",
    "    for action in path[0:step+1]:\n",
    "        start = findPlayer(env.room_state)\n",
    "        env.step(action)\n",
    "        end = findPlayer(env.room_state)\n",
    "        if start == end:\n",
    "            dx = start[0] + directions.get(action)[0]\n",
    "            dy = start[1] + directions.get(action)[1]\n",
    "            end = (dx, dy)\n",
    "        player_coordinates.append((start,end,action))\n",
    "\n",
    "    # Draw Arrows\n",
    "    mid_points = []\n",
    "    arrow_scale = 1\n",
    "    action_arrow_x = {UP:0, DOWN:0, LEFT:-arrow_scale, RIGHT:arrow_scale}\n",
    "    action_arrow_y = {UP:-arrow_scale, DOWN:arrow_scale, LEFT:0, RIGHT:0}\n",
    "    for coordinates in player_coordinates:\n",
    "        start = coordinates[0]\n",
    "        end = coordinates[1]\n",
    "        action = coordinates[2]\n",
    "\n",
    "        scale_begin = lambda a : a * 16\n",
    "        scale = lambda a : scale_begin(a) + 8\n",
    "        scale_d = lambda a,b : scale(a) - scale(b)\n",
    "        scale_mid = lambda a,b: (scale(a) + scale(b)) / 2\n",
    "        plt.arrow(\n",
    "            scale(start[0]) + action_arrow_x.get(action), \n",
    "            scale(start[1]) + action_arrow_y.get(action),\n",
    "            scale_d(end[0], start[0]) - (2*action_arrow_x.get(action)), \n",
    "            scale_d(end[1], start[1]) - (2*action_arrow_y.get(action)),\n",
    "            head_width=2,\n",
    "            head_length=2,\n",
    "            fc='green',\n",
    "            ec='green',\n",
    "            length_includes_head=True\n",
    "        )\n",
    "\n",
    "        mid_points.append((scale_mid(end[0], start[0]), scale_mid(end[1], start[1])))\n",
    "\n",
    "    # Add step numbers\n",
    "    mid_index_dict = {}\n",
    "    for step, mid in enumerate(mid_points):\n",
    "        mid_index_dict.setdefault(mid, []).append(step) \n",
    "    for mid, indexes in mid_index_dict.items():\n",
    "        limited = indexes[:4]\n",
    "        parts = []\n",
    "\n",
    "        for step, num in enumerate(limited):\n",
    "            parts.append(str(num+1))\n",
    "            if step % 2 == 1 and step != len(limited) - 1:\n",
    "                parts.append('\\n')\n",
    "            elif step != len(limited) - 1:\n",
    "                parts.append(', ')\n",
    "\n",
    "        if len(indexes) > 4:\n",
    "            parts.append('...')\n",
    "\n",
    "        step_numbers = ''.join(parts)\n",
    "        plt.text(mid[0], mid[1], step_numbers, color='white', fontsize=6,\n",
    "                 ha='center', va='center', bbox=dict(boxstyle=\"round,pad=0.2\", fc=\"black\", ec=\"none\", alpha=0.7))\n",
    "\n",
    "def animate(frame, env, path, im, fig, draw_arrows=False):\n",
    "    if frame==0:\n",
    "        env.reset()\n",
    "    else:\n",
    "        take_step(env, path, frame-1, fig, draw_arrows)\n",
    "\n",
    "    im.set_array(env.render(\"rgb_array\"))\n",
    "    return [im]\n",
    "\n",
    "def animate_path(env, path, saveAs):\n",
    "    \"\"\"\n",
    "    Renders the Sokoban environment and overlays the path with arrows and step numbers.\n",
    "\n",
    "    Args:\n",
    "        env: The Sokoban environment.\n",
    "        path: List of actions [UP, DOWN, LEFT, RIGHT] representing the agent's trajectory.\n",
    "        saveAs: Saves the animation with given name.\n",
    "    \"\"\"\n",
    "    fig = plt.figure(figsize=(5, 5), dpi=300, frameon=False)\n",
    "    ax = plt.Axes(fig, [0., 0., 1., 1.]) \n",
    "    ax.set_axis_off()\n",
    "    fig.add_axes(ax)\n",
    "\n",
    "    image = env.render(\"rgb_array\")\n",
    "    im = plt.imshow(image)\n",
    "    plt.axis('off')\n",
    "    \n",
    "    ani = FuncAnimation(fig, partial(animate, env=env, path=path, im=im, fig=fig, draw_arrows=False), frames=len(path)+1)\n",
    "    ani.save(\"./animations/gif/\" + saveAs +\".gif\", dpi=300, writer=PillowWriter(fps=3), savefig_kwargs={\"pad_inches\":0})\n",
    "    ani = FuncAnimation(fig, partial(animate, env=env, path=path, im=im, fig=fig, draw_arrows=True), frames=len(path)+1)\n",
    "    ani.save(\"./animations/gif_trajectory/\" + saveAs +\".gif\", dpi=300, writer=PillowWriter(fps=3), savefig_kwargs={\"pad_inches\":0})\n",
    "\n",
    "    plt.close()"
   ]
  },
  {
   "cell_type": "code",
   "execution_count": 4,
   "id": "8c02725f",
   "metadata": {},
   "outputs": [],
   "source": [
    "# Human attempt\n",
    "env = SokobanEnvFixated()\n",
    "path = [RIGHT, RIGHT, RIGHT, DOWN, LEFT, LEFT, UP, LEFT, UP, LEFT, DOWN, LEFT, DOWN, DOWN, RIGHT, UP, LEFT, UP, RIGHT, RIGHT, LEFT, LEFT, LEFT, DOWN, DOWN, DOWN, DOWN, RIGHT, UP, LEFT, UP, UP, RIGHT, RIGHT, DOWN, LEFT, UP, LEFT, DOWN]\n",
    "animate_path(env, path, \"SokobanHumanAttempt\")"
   ]
  },
  {
   "cell_type": "code",
   "execution_count": 5,
   "id": "05d51219",
   "metadata": {},
   "outputs": [],
   "source": [
    "# ChatGPT-4o Instructionset 1\n",
    "env = SokobanEnvFixated()\n",
    "path = [RIGHT, DOWN, LEFT, UP, LEFT, DOWN, RIGHT, RIGHT, UP, LEFT, DOWN, LEFT, UP]\n",
    "animate_path(env, path, \"SokobanGPT4oSetAttempt1\")"
   ]
  },
  {
   "cell_type": "code",
   "execution_count": 6,
   "id": "70fc4459",
   "metadata": {},
   "outputs": [],
   "source": [
    "# ChatGPT-4o Instructionset 2\n",
    "env = SokobanEnvFixated()\n",
    "path = [RIGHT, DOWN, RIGHT, UP, LEFT, DOWN, LEFT, DOWN, RIGHT, RIGHT, UP, LEFT, LEFT, DOWN]\n",
    "animate_path(env, path, \"SokobanGPT4oSetAttempt2\")"
   ]
  },
  {
   "cell_type": "code",
   "execution_count": 7,
   "id": "37840373",
   "metadata": {},
   "outputs": [],
   "source": [
    "# ChatGPT-4o (Reasoning) Instructionset\n",
    "env = SokobanEnvFixated()\n",
    "path = [RIGHT, RIGHT, DOWN, LEFT, LEFT, UP, LEFT, UP]\n",
    "animate_path(env, path, \"SokobanGPT4oReasoningSetAttempt\")"
   ]
  },
  {
   "cell_type": "code",
   "execution_count": 8,
   "id": "febb909c",
   "metadata": {},
   "outputs": [],
   "source": [
    "# ChatGPT-4o Step by Step\n",
    "env = SokobanEnvFixated()\n",
    "path = [RIGHT, DOWN, LEFT, DOWN, RIGHT, RIGHT, RIGHT, LEFT, LEFT, UP]\n",
    "animate_path(env, path, \"SokobanGPT4oStepAttempt\")"
   ]
  },
  {
   "cell_type": "code",
   "execution_count": 9,
   "id": "9318503c",
   "metadata": {},
   "outputs": [],
   "source": [
    "# ChatGPT-4o (Reasoning) Step by Step\n",
    "env = SokobanEnvFixated()\n",
    "path = [LEFT, RIGHT, RIGHT, RIGHT, DOWN, LEFT, UP, RIGHT, RIGHT, DOWN, LEFT, UP, LEFT, UP, LEFT, UP, RIGHT, DOWN, DOWN, RIGHT, DOWN, LEFT, DOWN, RIGHT, UP, LEFT, UP, UP, UP, UP]\n",
    "animate_path(env, path, \"SokobanGPT4oReasoningStepAttempt\")"
   ]
  },
  {
   "cell_type": "code",
   "execution_count": 10,
   "id": "7a28f3cf",
   "metadata": {},
   "outputs": [],
   "source": [
    "# Deekseek-R1 Instructionset\n",
    "env = SokobanEnvFixated()\n",
    "path = [RIGHT, RIGHT, RIGHT, DOWN, LEFT, LEFT, UP, LEFT, RIGHT, DOWN, DOWN, LEFT, LEFT, LEFT, UP, UP, LEFT, DOWN, LEFT, UP]\n",
    "animate_path(env, path, \"SokobanDeepseekR1SetAttempt\")"
   ]
  },
  {
   "cell_type": "code",
   "execution_count": 11,
   "id": "6ad360bf",
   "metadata": {},
   "outputs": [],
   "source": [
    "# Deekseek-R1 Step by Step\n",
    "env = SokobanEnvFixated()\n",
    "path = [RIGHT, RIGHT, DOWN, LEFT, UP, RIGHT, RIGHT, DOWN, LEFT, LEFT, LEFT, LEFT, RIGHT, LEFT, LEFT, UP, RIGHT, RIGHT, DOWN, LEFT, UP, LEFT, LEFT, DOWN, DOWN, RIGHT, DOWN, LEFT]\n",
    "animate_path(env, path, \"SokobanDeepseekR1StepAttempt\")"
   ]
  },
  {
   "cell_type": "code",
   "execution_count": 12,
   "id": "bfab661d",
   "metadata": {},
   "outputs": [],
   "source": [
    "# Claude 3.7 Sonnet Instructionset 1\n",
    "env = SokobanEnvFixated()\n",
    "path = [RIGHT, RIGHT, UP, LEFT, DOWN, LEFT, UP, UP, RIGHT, DOWN, LEFT, DOWN, RIGHT, RIGHT, UP, LEFT, UP, LEFT, DOWN, RIGHT, DOWN, LEFT, UP, RIGHT, RIGHT, UP, LEFT, LEFT, DOWN, DOWN, RIGHT, UP, LEFT, UP, RIGHT, DOWN, DOWN, RIGHT, UP, UP, LEFT, DOWN, RIGHT, DOWN, LEFT, UP]\n",
    "animate_path(env, path, \"SokobanClaude3.7SetAttempt1\")"
   ]
  },
  {
   "cell_type": "code",
   "execution_count": 13,
   "id": "7f760c21",
   "metadata": {},
   "outputs": [],
   "source": [
    "# Claude 3.7 Sonnet Instructionset 2\n",
    "env = SokobanEnvFixated()\n",
    "path = [LEFT, DOWN, LEFT, LEFT, UP, RIGHT, RIGHT, DOWN, LEFT, UP, LEFT, DOWN, DOWN, RIGHT, UP, RIGHT, UP, LEFT, DOWN, LEFT, UP, UP, RIGHT, DOWN, LEFT, DOWN, RIGHT, RIGHT, UP, UP, LEFT, DOWN, RIGHT, DOWN, LEFT, LEFT, UP, RIGHT, RIGHT, UP, LEFT, LEFT, DOWN, LEFT, UP, RIGHT]\n",
    "animate_path(env, path, \"SokobanClaude3.7SetAttempt2\")"
   ]
  },
  {
   "cell_type": "code",
   "execution_count": 14,
   "id": "2584ff46",
   "metadata": {},
   "outputs": [],
   "source": [
    "# Claude 3.7 Sonnet Step by Step\n",
    "env = SokobanEnvFixated()\n",
    "path = [RIGHT, DOWN, RIGHT, RIGHT, LEFT, DOWN]\n",
    "animate_path(env, path, \"SokobanClaude3.7StepAttempt\")"
   ]
  },
  {
   "cell_type": "code",
   "execution_count": 15,
   "id": "822d0274",
   "metadata": {},
   "outputs": [],
   "source": [
    "# DQN\n",
    "env = SokobanEnvFixated()\n",
    "path = [RIGHT, RIGHT, RIGHT, DOWN, LEFT, LEFT, UP, LEFT, LEFT, DOWN, LEFT, LEFT, UP, RIGHT, RIGHT, RIGHT, DOWN, DOWN, DOWN, DOWN, DOWN, DOWN, DOWN, DOWN, DOWN, DOWN, DOWN, DOWN, DOWN, DOWN, DOWN, DOWN, DOWN, DOWN, DOWN, DOWN, DOWN, DOWN, DOWN, DOWN]\n",
    "animate_path(env, path, \"SokobanDQNAttempt1\")"
   ]
  },
  {
   "cell_type": "code",
   "execution_count": 16,
   "id": "9263f1fb",
   "metadata": {},
   "outputs": [],
   "source": [
    "# DQN\n",
    "env = SokobanEnvFixated()\n",
    "path = [RIGHT, RIGHT, RIGHT, DOWN, LEFT, DOWN, LEFT, UP, LEFT, UP, UP, LEFT, DOWN, LEFT, DOWN, RIGHT, LEFT, LEFT, DOWN, DOWN, DOWN, RIGHT, UP, UP, RIGHT, UP, LEFT, UP, LEFT, DOWN, DOWN]\n",
    "animate_path(env, path, \"SokobanDQNAttempt2\")"
   ]
  },
  {
   "cell_type": "code",
   "execution_count": 17,
   "id": "5329cc92",
   "metadata": {},
   "outputs": [],
   "source": [
    "# PPO\n",
    "env = SokobanEnvFixated()\n",
    "path = [RIGHT, RIGHT, RIGHT, DOWN, LEFT, LEFT, RIGHT, UP, UP, RIGHT, RIGHT, RIGHT, RIGHT, RIGHT, RIGHT, RIGHT, RIGHT, RIGHT, RIGHT, RIGHT, RIGHT, RIGHT, RIGHT, RIGHT, RIGHT, RIGHT, RIGHT, RIGHT, RIGHT, RIGHT, RIGHT, RIGHT, RIGHT, RIGHT, RIGHT, RIGHT, RIGHT, RIGHT, RIGHT, RIGHT, RIGHT, RIGHT, RIGHT, RIGHT, RIGHT, RIGHT, RIGHT, RIGHT, RIGHT, RIGHT, RIGHT, RIGHT, RIGHT, RIGHT, RIGHT, RIGHT, RIGHT, RIGHT, RIGHT, RIGHT, RIGHT, RIGHT, RIGHT, RIGHT, RIGHT, RIGHT, RIGHT, RIGHT, RIGHT, RIGHT, RIGHT, RIGHT, RIGHT, RIGHT, RIGHT, RIGHT, RIGHT, RIGHT, RIGHT, RIGHT, RIGHT, RIGHT, RIGHT, RIGHT, RIGHT, RIGHT, RIGHT, RIGHT, RIGHT, RIGHT, RIGHT, RIGHT, RIGHT, RIGHT, RIGHT, RIGHT, RIGHT, RIGHT, RIGHT, RIGHT]\n",
    "animate_path(env, path, \"SokobanPPOAttempt1\")"
   ]
  },
  {
   "cell_type": "code",
   "execution_count": 18,
   "id": "1487e064",
   "metadata": {},
   "outputs": [],
   "source": [
    "# PPO\n",
    "env = SokobanEnvFixated()\n",
    "path = [RIGHT, RIGHT, RIGHT, DOWN, LEFT, LEFT, UP, LEFT, LEFT, DOWN, LEFT, LEFT, UP, RIGHT, RIGHT, RIGHT, LEFT, DOWN, LEFT, DOWN, LEFT, DOWN, DOWN, RIGHT, UP, UP, RIGHT, UP, LEFT, UP, LEFT, DOWN, DOWN]\n",
    "animate_path(env, path, \"SokobanPPOAttempt2\")"
   ]
  },
  {
   "cell_type": "code",
   "execution_count": 19,
   "id": "a305e96c",
   "metadata": {},
   "outputs": [],
   "source": [
    "# Breadth first search\n",
    "env = SokobanEnvFixated()\n",
    "path = [RIGHT, RIGHT, RIGHT, DOWN, LEFT, LEFT, LEFT, LEFT, DOWN, LEFT, LEFT, DOWN, DOWN, RIGHT, UP, LEFT, UP, UP, RIGHT, RIGHT, DOWN, LEFT, UP, LEFT, DOWN, UP, UP, RIGHT, RIGHT, RIGHT]\n",
    "animate_path(env, path, \"SokobanBfsAttempt\")"
   ]
  }
 ],
 "metadata": {
  "kernelspec": {
   "display_name": "venv",
   "language": "python",
   "name": "python3"
  },
  "language_info": {
   "codemirror_mode": {
    "name": "ipython",
    "version": 3
   },
   "file_extension": ".py",
   "mimetype": "text/x-python",
   "name": "python",
   "nbconvert_exporter": "python",
   "pygments_lexer": "ipython3",
   "version": "3.10.0"
  }
 },
 "nbformat": 4,
 "nbformat_minor": 5
}
