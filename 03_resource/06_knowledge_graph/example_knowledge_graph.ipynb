{
 "cells": [
  {
   "cell_type": "code",
   "execution_count": 1,
   "metadata": {},
   "outputs": [],
   "source": [
    "import os\n",
    "from dotenv import load_dotenv\n",
    "from pathlib import Path\n",
    "from neo4j import GraphDatabase"
   ]
  },
  {
   "cell_type": "code",
   "execution_count": 2,
   "metadata": {},
   "outputs": [],
   "source": [
    "load_dotenv(dotenv_path=Path(\"../../00_src/.env\"))\n",
    "\n",
    "# URI examples: \"neo4j://localhost\", \"neo4j+s://xxx.databases.neo4j.io\"\n",
    "URI = os.getenv(\"NEO4J_URI\")\n",
    "AUTH = (os.getenv(\"NEO4J_USERNAME\"), os.getenv(\"NEO4J_PASSWORD\"))\n",
    "\n",
    "with GraphDatabase.driver(URI, auth=AUTH) as driver:\n",
    "    driver.verify_connectivity()"
   ]
  },
  {
   "cell_type": "code",
   "execution_count": 3,
   "metadata": {},
   "outputs": [],
   "source": [
    "database = \"neo4j\""
   ]
  },
  {
   "cell_type": "code",
   "execution_count": 4,
   "metadata": {},
   "outputs": [],
   "source": [
    "def clear_db_tx(tx):\n",
    "    # delete all nodes with relationships\n",
    "    tx.run(\"\"\"\n",
    "        MATCH (a) -[r] -> () DELETE a, r\n",
    "    \"\"\") \n",
    "    # delete nodes that have no relationships\n",
    "    tx.run(\"\"\"\n",
    "        MATCH (a) DELETE a\n",
    "    \"\"\")\n",
    "\n",
    "def clear_db():\n",
    "    with GraphDatabase.driver(URI, auth=AUTH) as driver:\n",
    "        with driver.session(database=database) as session:\n",
    "            session.execute_write(clear_db_tx)\n",
    "            print(\"cleared all nodes in \" + database)"
   ]
  },
  {
   "cell_type": "code",
   "execution_count": 5,
   "metadata": {},
   "outputs": [
    {
     "name": "stdout",
     "output_type": "stream",
     "text": [
      "cleared all nodes in neo4j\n"
     ]
    }
   ],
   "source": [
    "clear_db()"
   ]
  },
  {
   "cell_type": "code",
   "execution_count": 6,
   "metadata": {},
   "outputs": [],
   "source": [
    "def execute_write_tx(tx, cypher):\n",
    "    tx.run(cypher) \n",
    "\n",
    "def execute_write(cypher):\n",
    "    with GraphDatabase.driver(URI, auth=AUTH) as driver:\n",
    "        with driver.session(database=database) as session:\n",
    "            session.execute_write(execute_write_tx, cypher)\n",
    "            print(\"successful\")"
   ]
  },
  {
   "cell_type": "code",
   "execution_count": 7,
   "metadata": {},
   "outputs": [
    {
     "name": "stdout",
     "output_type": "stream",
     "text": [
      "successful\n"
     ]
    }
   ],
   "source": [
    "execute_write(\"\"\"\n",
    "CREATE (a:FirstNode { Tag : \"This is a Node\" })\n",
    "    \"\"\")"
   ]
  },
  {
   "cell_type": "code",
   "execution_count": 8,
   "metadata": {},
   "outputs": [],
   "source": [
    "def execute_query(query: str, **kwargs: any):\n",
    "    with GraphDatabase.driver(URI, auth=AUTH) as driver:\n",
    "        records, summary, keys = driver.execute_query(\n",
    "        query,\n",
    "        **kwargs,\n",
    "        database_=database,\n",
    "        )\n",
    "    return records, summary, keys"
   ]
  },
  {
   "cell_type": "code",
   "execution_count": 9,
   "metadata": {},
   "outputs": [
    {
     "data": {
      "text/plain": [
       "([<Record n=<Node element_id='4:e2c4b0ec-a2c1-49c2-9dc4-b936b7c2ec5a:0' labels=frozenset({'FirstNode'}) properties={'Tag': 'This is a Node'}>>],\n",
       " <neo4j._work.summary.ResultSummary at 0x24a3612da50>,\n",
       " ['n'])"
      ]
     },
     "execution_count": 9,
     "metadata": {},
     "output_type": "execute_result"
    }
   ],
   "source": [
    "execute_query(\n",
    "    \"\"\"\n",
    "MATCH (n:FirstNode) RETURN n LIMIT $limit\n",
    "    \"\"\",\n",
    "    limit = 25\n",
    ")"
   ]
  },
  {
   "cell_type": "code",
   "execution_count": 10,
   "metadata": {},
   "outputs": [
    {
     "name": "stdout",
     "output_type": "stream",
     "text": [
      "successful\n",
      "successful\n",
      "successful\n"
     ]
    }
   ],
   "source": [
    "execute_write(\"\"\"\n",
    "CREATE (:Player {id: 1, tag:\"Player\"});\n",
    "    \"\"\")\n",
    "\n",
    "execute_write(\"\"\"\n",
    "CREATE (:Action {id:1, player_id:1, tag:\"Up\"}),\n",
    "       (:Action {id:2, player_id:1, tag:\"Down\"}),\n",
    "       (:Action {id:3, player_id:1, tag:\"Left\"}),\n",
    "       (:Action {id:4, player_id:1, tag:\"Right\"});\n",
    " \"\"\")\n",
    "\n",
    "execute_write(\"\"\"\n",
    "MATCH (a:Action),(p:Player)\n",
    "  WHERE a.player_id = p.id\n",
    "CREATE (p)-[:CAN_MOVE]->(a);\n",
    " \"\"\")"
   ]
  },
  {
   "cell_type": "code",
   "execution_count": 40,
   "metadata": {},
   "outputs": [
    {
     "name": "stdout",
     "output_type": "stream",
     "text": [
      "cleared all nodes in neo4j\n"
     ]
    },
    {
     "data": {
      "image/png": "[encoded data removed]",
      "text/plain": [
       "<Figure size 1280x960 with 1 Axes>"
      ]
     },
     "metadata": {},
     "output_type": "display_data"
    }
   ],
   "source": [
    "from gym_sokoban.envs import SokobanEnv\n",
    "import matplotlib.pyplot as plt\n",
    "import numpy as np\n",
    "%matplotlib inline\n",
    "\n",
    "clear_db()\n",
    "\n",
    "# For constant same enviroment the seed can be set:\n",
    "env = SokobanEnv(dim_room=(10, 10), max_steps=40, num_boxes=4, num_gen_steps=None, reset=True)\n",
    "env.seed(1)\n",
    "\n",
    "# For a fully self defined map the reset method can be overwritten:\n",
    "class SokobanEnvFixated(SokobanEnv):     \n",
    "    def reset(self, second_player=False, render_mode='rgb_array'):\n",
    "\n",
    "        self.room_fixed = np.array([[0, 0, 0, 0, 0],\n",
    "                                    [0, 1, 1, 1, 0],\n",
    "                                    [0, 2, 1, 1, 0],\n",
    "                                    [0, 2, 1, 1, 0],\n",
    "                                    [0, 0, 0, 0, 0]])\n",
    "        self.room_state = np.array([[0, 0, 0, 0, 0],\n",
    "                                    [0, 1, 1, 1, 0],\n",
    "                                    [0, 2, 4, 1, 0],\n",
    "                                    [0, 2, 4, 5, 0],\n",
    "                                    [0, 0, 0, 0, 0]])\n",
    "        self.box_mapping = {(2, 1): (2, 2), (3, 1): (3, 2)}\n",
    "\n",
    "        self.player_position = np.argwhere(self.room_state == 5)[0]\n",
    "        self.num_env_steps = 0\n",
    "        self.reward_last = 0\n",
    "        self.boxes_on_target = 0\n",
    "\n",
    "        starting_observation = self.render(render_mode)\n",
    "        return starting_observation\n",
    "  \n",
    "env = SokobanEnvFixated(dim_room=(5, 5), max_steps=40, num_boxes=2, num_gen_steps=None, reset=True)\n",
    "env.step(1)\n",
    "\n",
    "def render_state(env, mode=\"rgb_array\"):\n",
    "    \"\"\"Renders the Sokoban environment as image and displays it.\"\"\"\n",
    "    image = env.render(mode)\n",
    "\n",
    "    plt.figure(dpi=200) \n",
    "    plt.imshow(image)\n",
    "    plt.axis('off')\n",
    "    plt.show()\n",
    "\n",
    "render_state(env)"
   ]
  },
  {
   "cell_type": "code",
   "execution_count": 41,
   "metadata": {},
   "outputs": [
    {
     "data": {
      "text/plain": [
       "'\\n    CREATE (:Floor {id: 1, tag:\"Floor (1, 2)\"});\\n'"
      ]
     },
     "execution_count": 41,
     "metadata": {},
     "output_type": "execute_result"
    }
   ],
   "source": [
    "x =1\n",
    "y = 2\n",
    "tag = \"Floor ({x}, {y})\".format(x=x, y=y)\n",
    "# double brackets {{}} are needed to make {} and not be influenced by format()\n",
    "\"\"\"\n",
    "    CREATE (:Floor {{id: 1, tag:\"{tag}\"}});\n",
    "\"\"\".format(tag=tag)"
   ]
  },
  {
   "cell_type": "code",
   "execution_count": 42,
   "metadata": {},
   "outputs": [
    {
     "name": "stdout",
     "output_type": "stream",
     "text": [
      "successful\n"
     ]
    }
   ],
   "source": [
    "FLOOR = 1\n",
    "BOX_TARGET = 2\n",
    "id = 1\n",
    "nodes =[]\n",
    "for y in range(len(env.room_fixed)):\n",
    "        for x in range(len(env.room_fixed[y])):\n",
    "                tile = env.room_fixed[y][x]\n",
    "                if tile == FLOOR or tile == BOX_TARGET:\n",
    "                        tag = \"Floor [{x},{y}]\".format(x=x, y=y)\n",
    "                        has_box_target = tile == BOX_TARGET\n",
    "                        nodes.append(\"(:Floor {{id: {id}, x:{x}, y:{y}, has_box_target:{has_box_target}, tag:\\\"{tag}\\\"}})\".format(id=id, x=x, y=y, has_box_target=has_box_target, tag=tag))\n",
    "                        id+=1\n",
    "cypher = \"CREATE \" + \",\".join(nodes) + \";\"\n",
    "execute_write(cypher)"
   ]
  },
  {
   "cell_type": "code",
   "execution_count": 43,
   "metadata": {},
   "outputs": [
    {
     "name": "stdout",
     "output_type": "stream",
     "text": [
      "successful\n"
     ]
    }
   ],
   "source": [
    "execute_write(\"\"\"\n",
    "MATCH (o1:Floor),(o2:Floor)\n",
    "  WHERE (o1.x = o2.x AND o1.y = o2.y-1)\n",
    "     OR (o1.x = o2.x AND o1.y = o2.y+1)\n",
    "     OR (o1.x = o2.x-1 AND o1.y = o2.y)\n",
    "     OR (o1.x = o2.x+1 AND o1.y = o2.y)\n",
    "CREATE (o1)-[:CAN_GO_TO]->(o2);\n",
    " \"\"\")"
   ]
  },
  {
   "cell_type": "code",
   "execution_count": 44,
   "metadata": {},
   "outputs": [
    {
     "name": "stdout",
     "output_type": "stream",
     "text": [
      "successful\n"
     ]
    }
   ],
   "source": [
    "BOX_ON_TARGET = 3\n",
    "BOX = 4\n",
    "PLAYER = 5\n",
    "\n",
    "player_id = 1\n",
    "box_id = 1\n",
    "nodes =[]\n",
    "for y in range(len(env.room_state)):\n",
    "        for x in range(len(env.room_state[y])):\n",
    "                tile = env.room_state[y][x]\n",
    "                if tile == BOX_ON_TARGET or tile == BOX:\n",
    "                        tag = \"Box\"\n",
    "                        is_on_target = tile == BOX_ON_TARGET\n",
    "                        nodes.append(\"(:Box {{id: {id}, x:{x}, y:{y}, is_on_target:{is_on_target}, tag:\\\"{tag}\\\"}})\".format(id=box_id, x=x, y=y, is_on_target=is_on_target, tag=tag))\n",
    "                        box_id+=1\n",
    "                elif tile == PLAYER:\n",
    "                        tag = \"Player\"\n",
    "                        nodes.append(\"(:Player {{id: {id}, x:{x}, y:{y}, tag:\\\"{tag}\\\"}})\".format(id=player_id, x=x, y=y, tag=tag))\n",
    "                        player_id+=1\n",
    "cypher = \"CREATE \" + \",\".join(nodes) + \";\"\n",
    "execute_write(cypher)"
   ]
  },
  {
   "cell_type": "code",
   "execution_count": 45,
   "metadata": {},
   "outputs": [
    {
     "name": "stdout",
     "output_type": "stream",
     "text": [
      "successful\n",
      "successful\n"
     ]
    }
   ],
   "source": [
    "execute_write(\"\"\"\n",
    "MATCH (p:Player),(f:Floor)\n",
    "  WHERE p.x = f.x AND p.y = f.y\n",
    "CREATE (p)-[:ON_TOP_OF]->(f);\n",
    " \"\"\")\n",
    "\n",
    "execute_write(\"\"\"\n",
    "MATCH (b:Box),(f:Floor)\n",
    "  WHERE b.x = f.x AND b.y = f.y\n",
    "CREATE (b)-[:ON_TOP_OF]->(f);\n",
    " \"\"\")"
   ]
  },
  {
   "cell_type": "code",
   "execution_count": 46,
   "metadata": {},
   "outputs": [
    {
     "name": "stdout",
     "output_type": "stream",
     "text": [
      "successful\n"
     ]
    }
   ],
   "source": [
    "targets = []\n",
    "for target_position, box_position in env.box_mapping.items():\n",
    "    targets.append(\"(b.x = {box_x} AND b.y = {box_y} AND f.x = {tar_x} AND f.y = {tar_y})\".format(tar_x=target_position[1], tar_y=target_position[0], box_x=box_position[1], box_y=box_position[0]))\n",
    "    \n",
    "cypher = \"MATCH (b:Box),(f:Floor) WHERE \" + \" OR \".join(targets) + \" CREATE (b)-[:SHOULD_GO_TO]->(f);\"\n",
    "execute_write(cypher)"
   ]
  },
  {
   "cell_type": "code",
   "execution_count": 50,
   "metadata": {},
   "outputs": [
    {
     "name": "stdout",
     "output_type": "stream",
     "text": [
      "successful\n",
      "successful\n"
     ]
    }
   ],
   "source": [
    "actions = [(1, 0, -1, \"Up\"), (2, 0, 1, \"Down\"), (3, -1, 0, \"Left\"), (4, 1, 0, \"Right\")] #(action_id, dx, dy, tag)\n",
    "find_player = lambda room_state: next((x, y) for y, row in enumerate(room_state) for x, val in enumerate(row) if val == 5)\n",
    "in_bound = lambda array, n: n >= 0 and n < len(array)\n",
    "pos_in_bound = lambda room_state, x, y: in_bound(room_state, y) and in_bound(room_state[0], x)\n",
    "nodes =[]\n",
    "\n",
    "player_pos = find_player(env.room_state)\n",
    "for action in actions:\n",
    "    dx, dy = action[1], action[2]\n",
    "    player_x, player_y = player_pos[0] + dx, player_pos[1] + dy\n",
    "    box_x, box_y = player_x + dx, player_y + dy\n",
    "    can_move = pos_in_bound(env.room_state, player_x, player_y) and env.room_state[player_y, player_x] in [FLOOR, BOX_TARGET]\n",
    "    can_push_box = env.room_state[player_y, player_x] in [BOX_ON_TARGET, BOX] and pos_in_bound(env.room_state, box_x, box_y) and env.room_state[box_y, box_x] in [FLOOR, BOX_TARGET]\n",
    "    if can_move or can_push_box:\n",
    "        nodes.append(\"(:Action {{id: {id}, dx:{dx}, dy:{dy}, tag:\\\"{tag}\\\"}})\".format(id=action[0], dx=dx, dy=dy, tag=action[3]))\n",
    "\n",
    "cypher = \"CREATE \" + \",\".join(nodes) + \";\"\n",
    "execute_write(cypher)\n",
    "\n",
    "execute_write(\"\"\"\n",
    "MATCH (p:Player),(a:Action)\n",
    "CREATE (p)-[:CAN_MOVE]->(a);\n",
    " \"\"\")"
   ]
  }
 ],
 "metadata": {
  "kernelspec": {
   "display_name": "venv",
   "language": "python",
   "name": "python3"
  },
  "language_info": {
   "codemirror_mode": {
    "name": "ipython",
    "version": 3
   },
   "file_extension": ".py",
   "mimetype": "text/x-python",
   "name": "python",
   "nbconvert_exporter": "python",
   "pygments_lexer": "ipython3",
   "version": "3.10.0"
  }
 },
 "nbformat": 4,
 "nbformat_minor": 2
}
