{
 "cells": [
  {
   "cell_type": "code",
   "execution_count": 1,
   "metadata": {},
   "outputs": [],
   "source": [
    "#change working directory, for moduls of other package\n",
    "import os\n",
    "os.chdir(os.path.abspath('../../../00_src'))"
   ]
  },
  {
   "cell_type": "code",
   "execution_count": 2,
   "metadata": {},
   "outputs": [],
   "source": [
    "import sys\n",
    "import numpy as np\n",
    "from agents.agent_ollama import AgentOllama\n",
    "from environment.environment import SokobanEnvImpl\n",
    "import environment.util as env_util\n",
    "import environment.const as env_const\n",
    "import environment.visualization as env_vis\n",
    "from knowledge_graph.knowledge_graph import KnowledgeGraph\n",
    "%matplotlib inline"
   ]
  },
  {
   "cell_type": "code",
   "execution_count": 3,
   "metadata": {},
   "outputs": [],
   "source": [
    "attempt = 3\n",
    "UP, DOWN, LEFT, RIGHT = env_const.UP, env_const.DOWN, env_const.LEFT, env_const.RIGHT\n",
    "WALL, FLOOR, BOX_TARGET, BOX_ON_TARGET, BOX, PLAYER = env_const.WALL, env_const.FLOOR, env_const.BOX_TARGET, env_const.BOX_ON_TARGET, env_const.BOX, env_const.PLAYER\n",
    "env = SokobanEnvImpl(max_steps=60, use_default_env=True)\n",
    "kg = KnowledgeGraph(env)"
   ]
  },
  {
   "cell_type": "code",
   "execution_count": 4,
   "metadata": {},
   "outputs": [],
   "source": [
    "agent_player = AgentOllama(\"qwen2.5-coder:7b\",\n",
    "                     [(\"system\", (\"You are an agent who plays the game Sokoban. \\n\"\n",
    "                                  \"The target of the PLAYER is to push every BOX on top of a BOX_TARGET, with as few steps as possible. \\n\"\n",
    "                                  \"The optimal path to solve is {shortest_trajectory}. \\n\"\n",
    "                                  \"As answer pick the next action, which solves the game.\")),        \n",
    "                      (\"human\", (\" What is the next action?\"))])\n",
    "agent_player.write_log(\"../03_resource/09_LLM_KG/output/default_env_{:02}_attempt_trajectory.log\".format(attempt), clear_log_path=True)"
   ]
  },
  {
   "cell_type": "code",
   "execution_count": 5,
   "metadata": {},
   "outputs": [],
   "source": [
    "room_caption_map = {WALL:\"WALL\", FLOOR:\"FLOOR\", BOX_TARGET:\"BOX_TARGET\", BOX_ON_TARGET:\"BOX_ON_TARGET\", BOX:\"BOX\", PLAYER:\"PLAYER\"}\n",
    "action_caption_map = {0: \"WAIT\", UP:\"UP\", DOWN:\"DOWN\", LEFT:\"LEFT\", RIGHT:\"RIGHT\"}\n",
    "caption_action_map = {\"UP\":UP, \"DOWN\":DOWN, \"LEFT\":LEFT, \"RIGHT\":RIGHT}\n",
    "\n",
    "def create_input():\n",
    "    game_state = np.vectorize(room_caption_map.get)(env.room_state)\n",
    "    shortest_trajectory = np.array2string(np.vectorize(action_caption_map.get)(env_util.breadth_first_search(env)), max_line_width=sys.maxsize)\n",
    "    possible_actions = np.vectorize(action_caption_map.get)(kg.get_possible_actions())\n",
    "    return {\"game_state\": game_state,\n",
    "            \"shortest_trajectory\" : shortest_trajectory,\n",
    "            \"possible_actions\": possible_actions}\n",
    "\n",
    "def doStep(step:int) -> bool:\n",
    "    observation, reward_last, done, info = env.step(step)\n",
    "    kg.update()\n",
    "    return done"
   ]
  },
  {
   "cell_type": "code",
   "execution_count": 6,
   "metadata": {},
   "outputs": [
    {
     "name": "stdout",
     "output_type": "stream",
     "text": [
      "Step 1: Action RIGHT\n",
      "Step 2: Action RIGHT\n",
      "Step 3: Action RIGHT\n",
      "Step 4: Action RIGHT\n",
      "Step 5: Action RIGHT\n",
      "Step 6: Action RIGHT\n",
      "Step 7: Action RIGHT\n",
      "Step 8: Action RIGHT\n",
      "Step 9: Action RIGHT\n",
      "Step 10: Action RIGHT\n",
      "Step 11: Action RIGHT\n",
      "Step 12: Action RIGHT\n",
      "Step 13: Action RIGHT\n",
      "Step 14: Action RIGHT\n",
      "Step 15: Action RIGHT\n",
      "Step 16: Action RIGHT\n",
      "Step 17: Action RIGHT\n",
      "Step 18: Action RIGHT\n",
      "Step 19: Action RIGHT\n",
      "Step 20: Action RIGHT\n",
      "Step 21: Action RIGHT\n",
      "Step 22: Action RIGHT\n",
      "Step 23: Action RIGHT\n",
      "Step 24: Action RIGHT\n",
      "Step 25: Action RIGHT\n",
      "Step 26: Action RIGHT\n",
      "Step 27: Action RIGHT\n",
      "Step 28: Action RIGHT\n",
      "Step 29: Action RIGHT\n",
      "Step 30: Action RIGHT\n",
      "Step 31: Action RIGHT\n",
      "Step 32: Action RIGHT\n",
      "Step 33: Action RIGHT\n",
      "Step 34: Action RIGHT\n",
      "Step 35: Action RIGHT\n",
      "Step 36: Action RIGHT\n",
      "Step 37: Action RIGHT\n",
      "Step 38: Action RIGHT\n",
      "Step 39: Action RIGHT\n",
      "Step 40: Action RIGHT\n",
      "Step 41: Action RIGHT\n",
      "Step 42: Action RIGHT\n",
      "Step 43: Action RIGHT\n",
      "Step 44: Action RIGHT\n",
      "Step 45: Action RIGHT\n",
      "Step 46: Action RIGHT\n",
      "Step 47: Action RIGHT\n",
      "Step 48: Action RIGHT\n",
      "Step 49: Action RIGHT\n",
      "Step 50: Action RIGHT\n",
      "Step 51: Action RIGHT\n",
      "Step 52: Action RIGHT\n",
      "Step 53: Action RIGHT\n",
      "Step 54: Action RIGHT\n",
      "Step 55: Action RIGHT\n",
      "Step 56: Action RIGHT\n",
      "Step 57: Action RIGHT\n",
      "Step 58: Action RIGHT\n",
      "Step 59: Action RIGHT\n",
      "Step 60: Action RIGHT\n"
     ]
    }
   ],
   "source": [
    "done = False\n",
    "trajectory = []\n",
    "\n",
    "while not done:\n",
    "    agent_answer = agent_player.invoke(create_input())\n",
    "    next_action = 0 # default do nothing\n",
    "    print(\"Step {step}: Action \".format(step = len(trajectory)+1), end= \"\")\n",
    "    for action_id in caption_action_map.keys():\n",
    "        if action_id in agent_answer:\n",
    "            print(action_id, end=\"\") if next_action == 0 else print(\", \" + action_id, end=\"\")\n",
    "            next_action = caption_action_map.get(action_id)\n",
    "    print()\n",
    "    trajectory.append(next_action)\n",
    "    done = doStep(next_action)\n",
    "\n",
    "env.reset()"
   ]
  },
  {
   "cell_type": "code",
   "execution_count": 7,
   "metadata": {},
   "outputs": [],
   "source": [
    "env_vis.animate(env=env, path=trajectory, save_ani=\"../03_resource/09_LLM_KG/output/default_env_{:02}_attempt_trajectory.gif\".format(attempt), dpi=300)"
   ]
  }
 ],
 "metadata": {
  "kernelspec": {
   "display_name": "venv",
   "language": "python",
   "name": "python3"
  },
  "language_info": {
   "codemirror_mode": {
    "name": "ipython",
    "version": 3
   },
   "file_extension": ".py",
   "mimetype": "text/x-python",
   "name": "python",
   "nbconvert_exporter": "python",
   "pygments_lexer": "ipython3",
   "version": "3.10.14"
  }
 },
 "nbformat": 4,
 "nbformat_minor": 2
}
