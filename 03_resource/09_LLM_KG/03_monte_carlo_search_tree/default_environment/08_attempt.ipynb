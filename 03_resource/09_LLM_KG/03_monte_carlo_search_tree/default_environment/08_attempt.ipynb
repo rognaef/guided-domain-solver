{
 "cells": [
  {
   "cell_type": "code",
   "execution_count": 1,
   "metadata": {},
   "outputs": [],
   "source": [
    "#change working directory, for moduls of other package\n",
    "import os\n",
    "os.chdir(os.path.abspath('../../../../00_src'))"
   ]
  },
  {
   "cell_type": "code",
   "execution_count": 2,
   "metadata": {},
   "outputs": [],
   "source": [
    "import sys\n",
    "import time\n",
    "import copy\n",
    "import numpy as np\n",
    "import random\n",
    "from dotenv import load_dotenv\n",
    "from pathlib import Path\n",
    "from agents.agent_ollama import AgentOllama\n",
    "from environment.environment import SokobanEnvImpl\n",
    "import environment.util as env_util\n",
    "import environment.const as env_const\n",
    "import environment.visualization as env_vis\n",
    "from knowledge_graph.knowledge_graph import KnowledgeGraph\n",
    "from langchain_neo4j import Neo4jGraph\n",
    "from langchain_ollama import ChatOllama\n",
    "from typing import Literal\n",
    "from langchain_core.prompts import ChatPromptTemplate\n",
    "from typing import List\n",
    "from typing_extensions import TypedDict\n",
    "from langchain_core.output_parsers import StrOutputParser\n",
    "from IPython.display import Image, display\n",
    "from langgraph.graph import END, START, StateGraph\n",
    "%matplotlib inline"
   ]
  },
  {
   "cell_type": "code",
   "execution_count": 3,
   "metadata": {},
   "outputs": [
    {
     "data": {
      "image/png": "[encoded data removed]",
      "text/plain": [
       "<Figure size 640x480 with 1 Axes>"
      ]
     },
     "metadata": {},
     "output_type": "display_data"
    }
   ],
   "source": [
    "UP, DOWN, LEFT, RIGHT = env_const.UP, env_const.DOWN, env_const.LEFT, env_const.RIGHT\n",
    "WALL, FLOOR, BOX_TARGET, BOX_ON_TARGET, BOX, PLAYER = env_const.WALL, env_const.FLOOR, env_const.BOX_TARGET, env_const.BOX_ON_TARGET, env_const.BOX, env_const.PLAYER\n",
    "env = SokobanEnvImpl(max_steps=60, use_default_env=True)\n",
    "kg = KnowledgeGraph(env)\n",
    "env_vis.render(env=env, dpi=100)"
   ]
  },
  {
   "cell_type": "code",
   "execution_count": 4,
   "metadata": {},
   "outputs": [],
   "source": [
    "action_caption_map = {0: \"WAIT\", UP:\"UP\", DOWN:\"DOWN\", LEFT:\"LEFT\", RIGHT:\"RIGHT\"}\n",
    "\n",
    "def create_search_env(env:SokobanEnvImpl, target_box:tuple)->SokobanEnvImpl:\n",
    "    room_state = copy.deepcopy(env.room_state)\n",
    "    room_fixed = copy.deepcopy(env.room_fixed)\n",
    "\n",
    "    for y, row in enumerate(room_state):\n",
    "        for x, val in enumerate(row):\n",
    "            if (val == BOX and not (x == target_box[0] and y == target_box[1])) or val == BOX_ON_TARGET:\n",
    "                room_state[y][x] = WALL\n",
    "                room_fixed[y][x] = WALL\n",
    "    return SokobanEnvImpl(fixated_env=(room_fixed,room_state,{}))\n",
    "                \n",
    "\n",
    "def find_shortest_paths_to_place_remaining_boxes(env:SokobanEnvImpl) -> list:\n",
    "    result = []\n",
    "    for y, row in enumerate(env.room_state):\n",
    "        for x, val in enumerate(row):\n",
    "            if val == BOX:\n",
    "                search_env = create_search_env(env, (x,y))\n",
    "                path = np.array2string(np.vectorize(action_caption_map.get)(env_util.breadth_first_search(search_env)), max_line_width=sys.maxsize)\n",
    "                result.append({\"caption\":\"Box [{x},{y}]\".format(x=x, y=y), \"x\":x, \"y\":y, \"shortest_path_to_place\":path})\n",
    "    result_sorted = sorted(result, key=lambda n: len(n['shortest_path_to_place']))\n",
    "    return result_sorted"
   ]
  },
  {
   "cell_type": "markdown",
   "metadata": {},
   "source": [
    "# LangGraph"
   ]
  },
  {
   "cell_type": "code",
   "execution_count": 5,
   "metadata": {},
   "outputs": [],
   "source": [
    "class InputState(TypedDict):\n",
    "    ignore: None\n",
    "\n",
    "\n",
    "class OverallState(TypedDict):\n",
    "    selection_id: int\n",
    "    selection_trajectory: List[int]\n",
    "    reward: float\n",
    "    done: bool\n",
    "    sim_value: float\n",
    "\n",
    "\n",
    "class OutputState(TypedDict):\n",
    "    reward: float\n",
    "    done: bool"
   ]
  },
  {
   "cell_type": "code",
   "execution_count": 6,
   "metadata": {},
   "outputs": [],
   "source": [
    "def selection(state: InputState) -> OverallState:\n",
    "    records, summary, keys =  kg.client.read(\"\"\"\n",
    "                            MATCH (p:Path)\n",
    "                            WHERE p.done = false AND size([ (p)-[:MOVE]->(x) | x ]) < size(p.possible_actions)\n",
    "                            RETURN p\n",
    "                            ORDER BY p.value DESC\n",
    "                            LIMIT 1\n",
    "                            \"\"\")\n",
    "    if len(records) != 1:\n",
    "          raise Exception(\"No further paths can be examined.\")\n",
    "    return {\"selection_id\":records[0][\"p\"][\"id\"], \"selection_trajectory\":records[0][\"p\"][\"trajectory\"]}"
   ]
  },
  {
   "cell_type": "code",
   "execution_count": 7,
   "metadata": {},
   "outputs": [],
   "source": [
    "caption_action_map = {\"UP\":UP, \"DOWN\":DOWN, \"LEFT\":LEFT, \"RIGHT\":RIGHT}\n",
    "\n",
    "def doStep(action:int) -> bool:\n",
    "    observation, reward_last, done, info = env.step(action)\n",
    "    kg.step(action, reward_last, done)\n",
    "    return observation, reward_last, done, info\n",
    "\n",
    "agent_player = AgentOllama(\"qwen3:32b\",\n",
    "[(\"system\",\"You are a player which tries to solve a Sokoban game. Keep the reasoning short. Respond only with a single action out of ['UP', 'DOWN', 'LEFT', 'RIGHT'].\",),\n",
    "(\"human\",(\"\"\"Use the following results retrieved from a database to provide the next action for the Sokoban game.\n",
    "Enviroment: {enviorment}\n",
    "Shortest paths to place remaining boxes: {shortest_paths_to_place_remaining_boxes}\n",
    "Attempted Actions: {attempted_actions}\n",
    "Posstible Actions: {possible_actions}\n",
    "Action: \"\"\"),),],\n",
    "extract_reasoning=True)\n",
    "\n",
    "agent_player.write_log(\"../03_resource/09_LLM_KG/03_monte_carlo_search_tree/output/08_attempt_agent_player.log\", clear_log_path=True)\n",
    "\n",
    "def expansion(state: OverallState) -> OverallState:\n",
    "     id = state.get(\"selection_id\")\n",
    "     trajectory = state.get(\"selection_trajectory\")\n",
    "     env.set_state(trajectory)\n",
    "     kg.set_state(trajectory)\n",
    "\n",
    "     #Enviroment\n",
    "     enviroment, summary, keys =  kg.client.read(\"\"\"\n",
    "                                                 MATCH (e) \n",
    "                                                 WHERE NOT e:Path AND NOT e:Action\n",
    "                                                 RETURN \n",
    "                                                  CASE \n",
    "                                                    WHEN e.has_box_target IS NOT NULL THEN {caption: e.caption, x: e.x, y: e.y, has_box_target: e.has_box_target}\n",
    "                                                    WHEN e.is_on_target IS NOT NULL THEN {caption: e.caption + ' [' + toString(e.x) + ',' + toString(e.y) + ']', x: e.x, y: e.y, is_on_target: e.is_on_target}\n",
    "                                                    ELSE {caption: e.caption, x: e.x, y: e.y}\n",
    "                                                END AS environment\"\"\")\n",
    "     \n",
    "     # Shortest Paths to place remaining boxes\n",
    "     shortest_paths_to_place_remaining_boxes = find_shortest_paths_to_place_remaining_boxes(env)\n",
    "     \n",
    "     # Attempted actions\n",
    "     attempted_actions, summary, keys =  kg.client.read(\"\"\"\n",
    "                            MATCH (p:Path {{id: {id}}})-[m:MOVE]->(c:Path)\n",
    "                            MATCH (a:Action)\n",
    "                            WHERE m.id = a.id\n",
    "                            RETURN {{caption: a.caption, reward: p.reward-c.reward}} AS attempted_actions\n",
    "                            \"\"\".format(id=id))\n",
    "\n",
    "     # Unexplored actions\n",
    "     records, summary, keys =  kg.client.read(\"\"\"\n",
    "                            MATCH (a:Action)\n",
    "                            WHERE NOT EXISTS {{\n",
    "                              MATCH (p:Path {{id: {id}}})-[m:MOVE]->(c:Path)\n",
    "                              WHERE m.id = a.id\n",
    "                            }}\n",
    "                            RETURN a.caption AS possible_actions\n",
    "                            \"\"\".format(id=id))\n",
    "     possible_actions = [caption_action_map.get(record[\"possible_actions\"].upper()) for record in records]\n",
    "     \n",
    "     # agent\n",
    "     next_step = agent_player.invoke(\n",
    "        {\"enviorment\": enviroment,\n",
    "         \"shortest_paths_to_place_remaining_boxes\": shortest_paths_to_place_remaining_boxes,\n",
    "         \"attempted_actions\": attempted_actions,\n",
    "         \"possible_actions\": records}\n",
    "     )\n",
    "     \n",
    "     # evaluate action\n",
    "     next_action = 0 # default do nothing\n",
    "     for action_id in caption_action_map.keys():\n",
    "        if action_id in next_step:\n",
    "            next_action = caption_action_map.get(action_id)\n",
    "    \n",
    "     # fail safe\n",
    "     if next_action not in possible_actions:\n",
    "         next_action = random.choice(possible_actions)\n",
    "\n",
    "     observation, reward_last, done, info = doStep(next_action)\n",
    "\n",
    "     return {\"reward\":reward_last, \"done\":done}"
   ]
  },
  {
   "cell_type": "code",
   "execution_count": 8,
   "metadata": {},
   "outputs": [],
   "source": [
    "def eval_state()->float:\n",
    "    #todo: base on simulation\n",
    "    optimal = env_util.breadth_first_search(env)\n",
    "    state_value = 0\n",
    "    if optimal != None:\n",
    "        state_value = (60-len(optimal))/60\n",
    "    return state_value\n",
    "\n",
    "def simulation(state: OverallState) -> OverallState:\n",
    "    sim_value = eval_state()\n",
    "    return {\"reward\":state.get(\"reward\"), \"done\":state.get(\"done\"), \"sim_value\":sim_value}"
   ]
  },
  {
   "cell_type": "code",
   "execution_count": 9,
   "metadata": {},
   "outputs": [],
   "source": [
    "def backprop(state: OverallState) -> OverallState:\n",
    "    kg.backprop(state.get(\"sim_value\"))\n",
    "    return {\"reward\":state.get(\"reward\"), \"done\":state.get(\"done\")}"
   ]
  },
  {
   "cell_type": "code",
   "execution_count": 10,
   "metadata": {},
   "outputs": [],
   "source": [
    "langgraph = StateGraph(OverallState, input=InputState, output=OutputState)\n",
    "langgraph.add_node(selection)\n",
    "langgraph.add_node(expansion)\n",
    "langgraph.add_node(simulation)\n",
    "langgraph.add_node(backprop)\n",
    "\n",
    "langgraph.add_edge(START, \"selection\")\n",
    "langgraph.add_edge(\"selection\", \"expansion\")\n",
    "langgraph.add_edge(\"expansion\", \"simulation\")\n",
    "langgraph.add_edge(\"simulation\", \"backprop\")\n",
    "langgraph.add_edge(\"backprop\", END)\n",
    "\n",
    "langgraph = langgraph.compile()"
   ]
  },
  {
   "cell_type": "code",
   "execution_count": 11,
   "metadata": {},
   "outputs": [],
   "source": [
    "kg.backprop(eval_state())"
   ]
  },
  {
   "cell_type": "markdown",
   "metadata": {},
   "source": [
    "### Run"
   ]
  },
  {
   "cell_type": "code",
   "execution_count": 12,
   "metadata": {},
   "outputs": [
    {
     "name": "stdout",
     "output_type": "stream",
     "text": [
      "solved \t optimal 30 \t solution 30 \t path nodes 49 \t 24.634623169898987 m \t \n"
     ]
    }
   ],
   "source": [
    "start_time = time.time()\n",
    "while True:\n",
    "    result = langgraph.invoke({}, {\"recursion_limit\": 200})\n",
    "    if result.get(\"reward\") > 5:\n",
    "        break\n",
    "\n",
    "env.reset()\n",
    "optimal = env_util.breadth_first_search(env)\n",
    "end_time_min = (time.time() - start_time) / 60\n",
    "path_nodes, summary, keys = kg.client.read(\"\"\"MATCH (p:Path) RETURN p\"\"\")\n",
    "records, summary, keys = kg.client.read(\"\"\"MATCH (p:Path) WHERE p.done RETURN p \"\"\")\n",
    "trajectory = records[0][\"p\"][\"trajectory\"]\n",
    "print(\"solved \\t optimal {optimal} \\t solution {solution} \\t path nodes {nodes} \\t {time} m \\t \"\n",
    "      .format(optimal=len(optimal), solution=len(trajectory), nodes=len(path_nodes), time=end_time_min))\n",
    "env_vis.animate(env=env, path=trajectory, save_ani=\"../03_resource/09_LLM_KG/03_monte_carlo_search_tree/output/08_attempt.gif\", dpi=300)"
   ]
  }
 ],
 "metadata": {
  "kernelspec": {
   "display_name": "venv",
   "language": "python",
   "name": "python3"
  },
  "language_info": {
   "codemirror_mode": {
    "name": "ipython",
    "version": 3
   },
   "file_extension": ".py",
   "mimetype": "text/x-python",
   "name": "python",
   "nbconvert_exporter": "python",
   "pygments_lexer": "ipython3",
   "version": "3.10.14"
  }
 },
 "nbformat": 4,
 "nbformat_minor": 2
}
