{
 "cells": [
  {
   "cell_type": "code",
   "execution_count": 3,
   "metadata": {},
   "outputs": [],
   "source": [
    "import os\n",
    "from openai import OpenAI\n",
    "from dotenv import load_dotenv\n",
    "from pathlib import Path\n",
    "\n",
    "load_dotenv(dotenv_path=Path(\"../.env\"))\n",
    "\n",
    "api_key = os.getenv(\"OPENAI_API_KEY\")\n",
    "base_url = os.getenv(\"OPENAI_API_BASE_URL\")\n",
    "\n",
    "system_prompt = \"You are a travel agent. Be descriptive and helpful.\"\n",
    "user_prompt = \"Tell me about San Francisco\"\n",
    "\n",
    "agent = OpenAI(api_key=api_key, base_url=base_url)"
   ]
  },
  {
   "cell_type": "code",
   "execution_count": 6,
   "metadata": {},
   "outputs": [
    {
     "name": "stdout",
     "output_type": "stream",
     "text": [
      "User: Tell me about San Francisco\n",
      "AI:  San Francisco, located on the west coast of the United States, is a vibrant and culturally rich city, known for its picturesque landscapes, diverse neighborhoods, and innovative technology scene. Here are some highlights that make San Francisco a must-visit destination:\n",
      "\n",
      "1. Golden Gate Bridge: This iconic suspension bridge is one of the most recognized symbols of San Francisco. You can walk, bike, or drive across it for breathtaking views of the city and the Bay.\n",
      "\n",
      "2. Fisherman's Wharf: A popular tourist destination, Fisherman's Wharf offers a variety of attractions like Pier 39, sea lion sightings, and numerous restaurants serving fresh seafood.\n",
      "\n",
      "3. Alcatraz Island: Known for its historic federal prison, Alcatraz Island offers tours that allow visitors to explore the prison cells, learn about the notorious criminals who were housed there, and take in the stunning views of the city skyline.\n",
      "\n",
      "4. Chinatown: San Francisco's Chinatown is the oldest and largest in North America, with a rich history and vibrant culture. Stroll down Grant Avenue to enjoy authentic Chinese cuisine, shops, and temples.\n",
      "\n",
      "5. The Painted Ladies: These Victorian houses, located in the Alamo Square neighborhood, are a famous sight in San Francisco. They were made popular by their appearance in the opening credits of the TV show \"Full House.\"\n",
      "\n",
      "6. Muir Woods National Monument: Just north of San Francisco, you'll find Muir Woods, a beautiful redwood forest that provides an escape from the city and offers a peaceful, nature-filled experience.\n",
      "\n",
      "7. Union Square: A major shopping district in San Francisco, Union Square is home to numerous high-end retail stores, as well as restaurants, theaters, and art galleries.\n",
      "\n",
      "8. Ferry Building Marketplace: This bustling marketplace offers a variety of food vendors, selling everything from fresh produce to artisanal cheeses and chocolates.\n",
      "\n",
      "9. Cable Car Museum: Learn about the history of San Francisco's iconic cable cars at this museum, which also offers behind-the-scenes views of the cable car system.\n",
      "\n",
      "10. Lombard Street: Known as the \"crookedest street in the world,\" Lombard Street is a must-see for its\n"
     ]
    }
   ],
   "source": [
    "completion = agent.chat.completions.create(\n",
    "        model=\"mistralai/Mistral-7B-Instruct-v0.2\",\n",
    "        messages=[\n",
    "            {\"role\": \"system\", \"content\": system_prompt},\n",
    "            {\"role\": \"user\", \"content\": user_prompt},\n",
    "        ],\n",
    "        temperature=0.7,\n",
    "        max_tokens=256,\n",
    "    )\n",
    "\n",
    "response = completion.choices[0].message.content\n",
    "\n",
    "print(\"User:\", user_prompt)\n",
    "print(\"AI:\", response)"
   ]
  }
 ],
 "metadata": {
  "kernelspec": {
   "display_name": "vm-code-gen",
   "language": "python",
   "name": "python3"
  },
  "language_info": {
   "codemirror_mode": {
    "name": "ipython",
    "version": 3
   },
   "file_extension": ".py",
   "mimetype": "text/x-python",
   "name": "python",
   "nbconvert_exporter": "python",
   "pygments_lexer": "ipython3",
   "version": "3.9.21"
  }
 },
 "nbformat": 4,
 "nbformat_minor": 2
}
