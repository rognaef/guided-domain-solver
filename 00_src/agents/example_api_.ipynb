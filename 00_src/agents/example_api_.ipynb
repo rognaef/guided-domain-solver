{
 "cells": [
  {
   "cell_type": "code",
   "execution_count": 2,
   "metadata": {},
   "outputs": [],
   "source": [
    "import os\n",
    "from openai import OpenAI\n",
    "from dotenv import load_dotenv\n",
    "from pathlib import Path\n",
    "\n",
    "load_dotenv(dotenv_path=Path(\"../.env\"))\n",
    "\n",
    "api_key = os.getenv(\"OPENAI_API_KEY\")\n",
    "base_url = os.getenv(\"OPENAI_API_BASE_URL\")\n",
    "\n",
    "system_prompt = \"You are a travel agent. Be descriptive and helpful.\"\n",
    "user_prompt = \"Tell me about San Francisco\"\n",
    "\n",
    "agent = OpenAI(api_key=api_key, base_url=base_url)"
   ]
  },
  {
   "cell_type": "code",
   "execution_count": 3,
   "metadata": {},
   "outputs": [
    {
     "name": "stdout",
     "output_type": "stream",
     "text": [
      "User: Tell me about San Francisco\n",
      "AI:  San Francisco, located on the west coast of the United States, is a vibrant and culturally rich city that offers a unique blend of modern innovation and historical charm. It's the cultural, commercial, and financial center of Northern California.\n",
      "\n",
      "One of the city's most iconic landmarks is the Golden Gate Bridge, a suspension bridge spanning the Golden Gate Strait. It's a breathtaking sight, especially during sunrise or sunset.\n",
      "\n",
      "The city is also known for its hilly streets, Victorian houses, iconic cable cars, and the charming neighborhood of Fisherman's Wharf. Here, you can visit the famous sea lion colony at Pier 39, explore the Maritime National Historical Park, and enjoy fresh seafood.\n",
      "\n",
      "For art enthusiasts, a visit to the San Francisco Museum of Modern Art (SFMOMA) is a must. The museum houses an extensive collection of modern and contemporary art. The de Young Museum in Golden Gate Park, dedicated to American art from the 17th through the 21st centuries, is another must-visit.\n",
      "\n",
      "Foodies will delight in San Francisco's diverse culinary scene. The city is famous for its sour\n"
     ]
    }
   ],
   "source": [
    "completion = agent.chat.completions.create(\n",
    "        model=\"mistralai/Mistral-7B-Instruct-v0.2\",\n",
    "        messages=[\n",
    "            {\"role\": \"system\", \"content\": system_prompt},\n",
    "            {\"role\": \"user\", \"content\": user_prompt},\n",
    "        ],\n",
    "        temperature=0.7,\n",
    "        max_tokens=256,\n",
    "    )\n",
    "\n",
    "response = completion.choices[0].message.content\n",
    "\n",
    "print(\"User:\", user_prompt)\n",
    "print(\"AI:\", response)"
   ]
  }
 ],
 "metadata": {
  "kernelspec": {
   "display_name": "venv",
   "language": "python",
   "name": "python3"
  },
  "language_info": {
   "codemirror_mode": {
    "name": "ipython",
    "version": 3
   },
   "file_extension": ".py",
   "mimetype": "text/x-python",
   "name": "python",
   "nbconvert_exporter": "python",
   "pygments_lexer": "ipython3",
   "version": "3.11.5"
  }
 },
 "nbformat": 4,
 "nbformat_minor": 2
}
