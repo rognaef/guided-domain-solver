{
 "cells": [
  {
   "cell_type": "code",
   "execution_count": 13,
   "metadata": {},
   "outputs": [
    {
     "name": "stdout",
     "output_type": "stream",
     "text": [
      "State(key=Array([4165894930,  804218099], dtype=uint32), fixed_grid=Array([[1, 1, 1, 1, 1, 1, 1, 1, 1, 1],\n",
      "       [1, 1, 1, 1, 1, 1, 1, 1, 1, 1],\n",
      "       [1, 1, 1, 1, 1, 1, 1, 1, 1, 1],\n",
      "       [1, 1, 1, 0, 0, 1, 0, 1, 1, 1],\n",
      "       [1, 0, 0, 0, 0, 2, 0, 0, 0, 1],\n",
      "       [1, 0, 0, 0, 2, 0, 0, 0, 0, 1],\n",
      "       [1, 0, 0, 0, 1, 0, 0, 2, 0, 1],\n",
      "       [1, 2, 0, 1, 1, 1, 1, 1, 1, 1],\n",
      "       [1, 0, 0, 1, 1, 1, 1, 1, 1, 1],\n",
      "       [1, 1, 1, 1, 1, 1, 1, 1, 1, 1]], dtype=uint8), variable_grid=Array([[0, 0, 0, 0, 0, 0, 0, 0, 0, 0],\n",
      "       [0, 0, 0, 0, 0, 0, 0, 0, 0, 0],\n",
      "       [0, 0, 0, 0, 0, 0, 0, 0, 0, 0],\n",
      "       [0, 0, 0, 0, 0, 0, 0, 0, 0, 0],\n",
      "       [0, 0, 0, 4, 3, 0, 0, 0, 0, 0],\n",
      "       [0, 0, 0, 0, 0, 4, 0, 4, 0, 0],\n",
      "       [0, 0, 0, 0, 0, 0, 0, 0, 0, 0],\n",
      "       [0, 0, 4, 0, 0, 0, 0, 0, 0, 0],\n",
      "       [0, 0, 0, 0, 0, 0, 0, 0, 0, 0],\n",
      "       [0, 0, 0, 0, 0, 0, 0, 0, 0, 0]], dtype=uint8), agent_location=Array([4, 4], dtype=int32), step_count=Array(0, dtype=int32))\n"
     ]
    }
   ],
   "source": [
    "code = \"\"\"\n",
    "import jax\n",
    "import jumanji\n",
    "env = jumanji.make('Sokoban-v0')\n",
    "key = jax.random.PRNGKey(0)\n",
    "state, timestep = jax.jit(env.reset)(key)\n",
    "\"\"\"\n",
    "\n",
    "loc = {}\n",
    "compiled_code = compile(code, '<string>', 'exec')\n",
    "exec(compiled_code, globals(), loc)\n",
    "return_workaround = loc['state']\n",
    "print(return_workaround)"
   ]
  }
 ],
 "metadata": {
  "kernelspec": {
   "display_name": "vm-code-gen",
   "language": "python",
   "name": "python3"
  },
  "language_info": {
   "codemirror_mode": {
    "name": "ipython",
    "version": 3
   },
   "file_extension": ".py",
   "mimetype": "text/x-python",
   "name": "python",
   "nbconvert_exporter": "python",
   "pygments_lexer": "ipython3",
   "version": "3.10.16"
  }
 },
 "nbformat": 4,
 "nbformat_minor": 2
}
