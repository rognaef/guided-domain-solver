{
 "cells": [
  {
   "cell_type": "code",
   "execution_count": 1,
   "metadata": {},
   "outputs": [],
   "source": [
    "import os\n",
    "from dotenv import load_dotenv\n",
    "from pathlib import Path\n",
    "from neo4j import GraphDatabase"
   ]
  },
  {
   "cell_type": "code",
   "execution_count": 2,
   "metadata": {},
   "outputs": [],
   "source": [
    "load_dotenv(dotenv_path=Path(\"../.env\"))\n",
    "\n",
    "# URI examples: \"neo4j://localhost\", \"neo4j+s://xxx.databases.neo4j.io\"\n",
    "URI = os.getenv(\"NEO4J_URI\")\n",
    "AUTH = (os.getenv(\"NEO4J_USERNAME\"), os.getenv(\"NEO4J_PASSWORD\"))\n",
    "\n",
    "with GraphDatabase.driver(URI, auth=AUTH) as driver:\n",
    "    driver.verify_connectivity()"
   ]
  },
  {
   "cell_type": "code",
   "execution_count": 13,
   "metadata": {},
   "outputs": [],
   "source": [
    "database = \"neo4j\""
   ]
  },
  {
   "cell_type": "code",
   "execution_count": 5,
   "metadata": {},
   "outputs": [],
   "source": [
    "def clear_db_tx(tx):\n",
    "    # delete all nodes with relationships\n",
    "    tx.run(\"\"\"\n",
    "        MATCH (a) -[r] -> () DELETE a, r\n",
    "    \"\"\") \n",
    "    # delete nodes that have no relationships\n",
    "    tx.run(\"\"\"\n",
    "        MATCH (a) DELETE a\n",
    "    \"\"\")\n",
    "\n",
    "def clear_db():\n",
    "    with GraphDatabase.driver(URI, auth=AUTH) as driver:\n",
    "        with driver.session(database=database) as session:\n",
    "            session.execute_write(clear_db_tx)\n",
    "            print(\"cleared all nodes in \" + database)"
   ]
  },
  {
   "cell_type": "code",
   "execution_count": 23,
   "metadata": {},
   "outputs": [
    {
     "name": "stdout",
     "output_type": "stream",
     "text": [
      "cleared all nodes in neo4j\n"
     ]
    }
   ],
   "source": [
    "clear_db()"
   ]
  },
  {
   "cell_type": "code",
   "execution_count": 21,
   "metadata": {},
   "outputs": [],
   "source": [
    "def execute_write_tx(tx, cypher):\n",
    "    tx.run(cypher) \n",
    "\n",
    "def execute_write(cypher):\n",
    "    with GraphDatabase.driver(URI, auth=AUTH) as driver:\n",
    "        with driver.session(database=database) as session:\n",
    "            session.execute_write(execute_write_tx, cypher)\n",
    "            print(\"successful\")"
   ]
  },
  {
   "cell_type": "code",
   "execution_count": 24,
   "metadata": {},
   "outputs": [
    {
     "name": "stdout",
     "output_type": "stream",
     "text": [
      "successful\n"
     ]
    }
   ],
   "source": [
    "execute_write(\"\"\"\n",
    "CREATE (a:FirstNode { Tag : \"This is a Node\" })\n",
    "    \"\"\")"
   ]
  },
  {
   "cell_type": "code",
   "execution_count": 34,
   "metadata": {},
   "outputs": [],
   "source": [
    "def execute_query(query: str, **kwargs: any):\n",
    "    with GraphDatabase.driver(URI, auth=AUTH) as driver:\n",
    "        records, summary, keys = driver.execute_query(\n",
    "        query,\n",
    "        **kwargs,\n",
    "        database_=database,\n",
    "        )\n",
    "    return records, summary, keys"
   ]
  },
  {
   "cell_type": "code",
   "execution_count": 35,
   "metadata": {},
   "outputs": [
    {
     "data": {
      "text/plain": [
       "([<Record n=<Node element_id='4:e2c4b0ec-a2c1-49c2-9dc4-b936b7c2ec5a:3' labels=frozenset({'FirstNode'}) properties={'Tag': 'This is a Node'}>>],\n",
       " <neo4j._work.summary.ResultSummary at 0x2137ae279a0>,\n",
       " ['n'])"
      ]
     },
     "execution_count": 35,
     "metadata": {},
     "output_type": "execute_result"
    }
   ],
   "source": [
    "execute_query(\n",
    "    \"\"\"\n",
    "MATCH (n:FirstNode) RETURN n LIMIT $limit\n",
    "    \"\"\",\n",
    "    limit = 25\n",
    ")"
   ]
  }
 ],
 "metadata": {
  "kernelspec": {
   "display_name": "venv",
   "language": "python",
   "name": "python3"
  },
  "language_info": {
   "codemirror_mode": {
    "name": "ipython",
    "version": 3
   },
   "file_extension": ".py",
   "mimetype": "text/x-python",
   "name": "python",
   "nbconvert_exporter": "python",
   "pygments_lexer": "ipython3",
   "version": "3.10.0"
  }
 },
 "nbformat": 4,
 "nbformat_minor": 2
}
