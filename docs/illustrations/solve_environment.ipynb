{
 "cells": [
  {
   "cell_type": "code",
   "execution_count": 1,
   "metadata": {},
   "outputs": [],
   "source": [
    "#change working directory, for moduls of other package\n",
    "import os\n",
    "os.chdir(os.path.abspath('../../src'))"
   ]
  },
  {
   "cell_type": "code",
   "execution_count": null,
   "metadata": {},
   "outputs": [],
   "source": [
    "from mcts.mcts import Builder\n",
    "from environment.environment import SokobanEnvImpl\n",
    "from environment.visualization import animate"
   ]
  },
  {
   "cell_type": "code",
   "execution_count": null,
   "metadata": {},
   "outputs": [],
   "source": [
    "solver = Builder().build()\n",
    "\n",
    "def solve(env:SokobanEnvImpl, env_name:str):\n",
    "    trajectory, nodes, time = solver.solve(env)\n",
    "    animate(env, trajectory, f\"../docs/images/{env_name}.gif\")"
   ]
  },
  {
   "cell_type": "code",
   "execution_count": 5,
   "metadata": {},
   "outputs": [],
   "source": [
    "env_name = \"\".zfill(4) + \"_solved_env\"\n",
    "env = SokobanEnvImpl(max_steps=60, use_default_env=True)\n",
    "solve(env, env_name)"
   ]
  },
  {
   "cell_type": "code",
   "execution_count": 6,
   "metadata": {},
   "outputs": [],
   "source": [
    "for i in range(1, 21):\n",
    "    env_name = str(i).zfill(4) + \"_solved_env\"\n",
    "    env = SokobanEnvImpl(max_steps=60).as_fixated()\n",
    "    solve(env, env_name)"
   ]
  }
 ],
 "metadata": {
  "kernelspec": {
   "display_name": "venv",
   "language": "python",
   "name": "python3"
  },
  "language_info": {
   "codemirror_mode": {
    "name": "ipython",
    "version": 3
   },
   "file_extension": ".py",
   "mimetype": "text/x-python",
   "name": "python",
   "nbconvert_exporter": "python",
   "pygments_lexer": "ipython3",
   "version": "3.10.14"
  }
 },
 "nbformat": 4,
 "nbformat_minor": 2
}
