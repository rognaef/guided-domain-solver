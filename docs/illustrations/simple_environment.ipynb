{
 "cells": [
  {
   "cell_type": "code",
   "execution_count": 1,
   "metadata": {},
   "outputs": [],
   "source": [
    "#change working directory, for moduls of other package\n",
    "import os\n",
    "os.chdir(os.path.abspath('../../src'))"
   ]
  },
  {
   "cell_type": "code",
   "execution_count": 2,
   "metadata": {},
   "outputs": [],
   "source": [
    "from environment.environment import SokobanEnvImpl\n",
    "from environment.visualization import render\n",
    "from environment.const import *\n",
    "import numpy as np"
   ]
  },
  {
   "cell_type": "code",
   "execution_count": 3,
   "metadata": {},
   "outputs": [],
   "source": [
    "env = SokobanEnvImpl(fixated_env=(\n",
    "    np.array([[0, 0, 0, 0, 0],\n",
    "              [0, 1, 1, 2, 0],\n",
    "              [0, 1, 1, 1, 0],\n",
    "              [0, 0, 0, 0, 0]]),\n",
    "    np.array([[0, 0, 0, 0, 0],\n",
    "              [0, 5, 4, 2, 0],\n",
    "              [0, 1, 1, 1, 0],\n",
    "              [0, 0, 0, 0, 0]]),\n",
    "    {}\n",
    "    )).as_fixated()\n",
    "render(env, save_fig=f\"../docs/images/0000_simple_flat_env.png\", show_fig=False)"
   ]
  },
  {
   "cell_type": "code",
   "execution_count": 4,
   "metadata": {},
   "outputs": [],
   "source": [
    "def make_id_generator():\n",
    "    count = 0\n",
    "    def next_id():\n",
    "        nonlocal count\n",
    "        id = str(count).zfill(4)\n",
    "        count += 1\n",
    "        return id\n",
    "    return next_id\n",
    "\n",
    "next_id = make_id_generator()"
   ]
  },
  {
   "cell_type": "code",
   "execution_count": 5,
   "metadata": {},
   "outputs": [],
   "source": [
    "env = SokobanEnvImpl(fixated_env=(\n",
    "    np.array([[0, 0, 0, 0, 0],\n",
    "              [0, 1, 1, 1, 0],\n",
    "              [0, 1, 1, 2, 0],\n",
    "              [0, 1, 1, 2, 0],\n",
    "              [0, 0, 0, 0, 0]]),\n",
    "    np.array([[0, 0, 0, 0, 0],\n",
    "              [0, 1, 1, 1, 0],\n",
    "              [0, 1, 4, 2, 0],\n",
    "              [0, 5, 4, 2, 0],\n",
    "              [0, 0, 0, 0, 0]]),\n",
    "    {}\n",
    "    )).as_fixated()\n",
    "render(env, save_fig=f\"../docs/images/{next_id()}_simple_env.png\", show_fig=False)"
   ]
  }
 ],
 "metadata": {
  "kernelspec": {
   "display_name": "venv",
   "language": "python",
   "name": "python3"
  },
  "language_info": {
   "codemirror_mode": {
    "name": "ipython",
    "version": 3
   },
   "file_extension": ".py",
   "mimetype": "text/x-python",
   "name": "python",
   "nbconvert_exporter": "python",
   "pygments_lexer": "ipython3",
   "version": "3.10.0"
  }
 },
 "nbformat": 4,
 "nbformat_minor": 2
}
