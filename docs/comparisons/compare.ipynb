{
 "cells": [
  {
   "cell_type": "code",
   "execution_count": 1,
   "metadata": {},
   "outputs": [],
   "source": [
    "#change working directory, for moduls of other package\n",
    "import os\n",
    "os.chdir(os.path.abspath('../../src'))"
   ]
  },
  {
   "cell_type": "code",
   "execution_count": 2,
   "metadata": {},
   "outputs": [],
   "source": [
    "from mcts.mcts import Builder\n",
    "from mcts.expansion import expansion_random_sampling, expansion_random\n",
    "from environment.environment import SokobanEnvImpl\n",
    "from environment.visualization import render\n",
    "from environment.util import breadth_first_search\n",
    "import random\n",
    "import csv"
   ]
  },
  {
   "cell_type": "code",
   "execution_count": 3,
   "metadata": {},
   "outputs": [],
   "source": [
    "random.seed(42)"
   ]
  },
  {
   "cell_type": "code",
   "execution_count": 4,
   "metadata": {},
   "outputs": [],
   "source": [
    "solver = Builder().build()\n",
    "random_sampling_solver = Builder().setExpansion(expansion_random_sampling).build()\n",
    "random_solver = Builder().setExpansion(expansion_random).build()\n",
    "\n",
    "def write_to_summary(row):\n",
    "    with open('../docs/comparisons/output/summary.csv', mode='a', newline='') as f:\n",
    "        writer = csv.DictWriter(f, fieldnames=['id', 'best_trajectory', 'trajectory', 'nodes', 'time', 'rs_trajectory', 'rs_nodes', 'rs_time', 'r_trajectory', 'r_nodes', 'r_time'])\n",
    "        # If the file is empty, write the header first\n",
    "        if f.tell() == 0:\n",
    "            writer.writeheader()\n",
    "        writer.writerow(row)\n",
    "\n",
    "def solve(env:SokobanEnvImpl, env_name:str):\n",
    "    os.mkdir(f\"../docs/comparisons/output/{env_name}\")\n",
    "    render(env, save_fig=f\"../docs/comparisons/output/{env_name}/environment.png\", show_fig=False)\n",
    "    best_trajectory = breadth_first_search(env)\n",
    "    trajectory, nodes, time = solver.solve(env, log_path=f\"../docs/comparisons/output/{env_name}/\")\n",
    "    rs_trajectory, rs_nodes, rs_time = random_sampling_solver.solve(env, log_path=f\"../docs/comparisons/output/{env_name}/rs_\")\n",
    "    r_trajectory, r_nodes, r_time = random_solver.solve(env, log_path=f\"../docs/comparisons/output/{env_name}/r_\")\n",
    "    write_to_summary({'id': env_name, 'best_trajectory': best_trajectory, 'trajectory': trajectory, 'nodes': nodes, 'time': time, 'rs_trajectory': rs_trajectory, 'rs_nodes': rs_nodes, 'rs_time': rs_time, 'r_trajectory': r_trajectory, 'r_nodes': r_nodes, 'r_time': r_time})"
   ]
  },
  {
   "cell_type": "code",
   "execution_count": 5,
   "metadata": {},
   "outputs": [],
   "source": [
    "env_name = \"\".zfill(4) + \"_default_env\"\n",
    "env = SokobanEnvImpl(max_steps=60, use_default_env=True)\n",
    "solve(env, env_name)"
   ]
  },
  {
   "cell_type": "code",
   "execution_count": 6,
   "metadata": {},
   "outputs": [],
   "source": [
    "for i in range(1, 21):\n",
    "    env_name = str(i).zfill(4) + \"_generated_env\"\n",
    "    env = SokobanEnvImpl(max_steps=60).as_fixated()\n",
    "    solve(env, env_name)"
   ]
  }
 ],
 "metadata": {
  "kernelspec": {
   "display_name": "venv",
   "language": "python",
   "name": "python3"
  },
  "language_info": {
   "codemirror_mode": {
    "name": "ipython",
    "version": 3
   },
   "file_extension": ".py",
   "mimetype": "text/x-python",
   "name": "python",
   "nbconvert_exporter": "python",
   "pygments_lexer": "ipython3",
   "version": "3.10.14"
  }
 },
 "nbformat": 4,
 "nbformat_minor": 2
}
