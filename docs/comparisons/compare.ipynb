{
 "cells": [
  {
   "cell_type": "code",
   "execution_count": 1,
   "metadata": {},
   "outputs": [],
   "source": [
    "#change working directory, for moduls of other package\n",
    "import os\n",
    "os.chdir(os.path.abspath('../../src'))"
   ]
  },
  {
   "cell_type": "code",
   "execution_count": 2,
   "metadata": {},
   "outputs": [],
   "source": [
    "from mcts.mcts import Builder\n",
    "from mcts.expansion import expansion_random_sampling, expansion_random\n",
    "from environment.environment import SokobanEnvImpl\n",
    "from environment.visualization import render\n",
    "from environment.util import breadth_first_search\n",
    "import random\n",
    "import csv"
   ]
  },
  {
   "cell_type": "code",
   "execution_count": 3,
   "metadata": {},
   "outputs": [],
   "source": [
    "random.seed(42)"
   ]
  },
  {
   "cell_type": "code",
   "execution_count": 4,
   "metadata": {},
   "outputs": [],
   "source": [
    "solver_qwen = Builder().build()\n",
    "solver_deepseek = Builder().build()\n",
    "solver_chatgpt = Builder().build()\n",
    "random_sampling_solver = Builder().setExpansion(expansion_random_sampling).build()\n",
    "random_solver = Builder().setExpansion(expansion_random).build()\n",
    "\n",
    "def write_to_summary(row):\n",
    "    with open('../docs/comparisons/output/summary.csv', mode='a', newline='') as f:\n",
    "        writer = csv.DictWriter(f, fieldnames=['id', 'best_trajectory', 'qwen_trajectory', 'qwen_nodes', 'qwen_time', 'deepseek_trajectory', 'deepseek_nodes', 'deepseek_time', 'chatgpt_trajectory', 'chatgpt_nodes', 'chatgpt_time', 'rs_trajectory', 'rs_nodes', 'rs_time', 'r_trajectory', 'r_nodes', 'r_time'])\n",
    "        # If the file is empty, write the header first\n",
    "        if f.tell() == 0:\n",
    "            writer.writeheader()\n",
    "        writer.writerow(row)\n",
    "\n",
    "def solve(env:SokobanEnvImpl, env_name:str):\n",
    "    os.mkdir(f\"../docs/comparisons/output/{env_name}\")\n",
    "    render(env, save_fig=f\"../docs/comparisons/output/{env_name}/environment.png\", show_fig=False)\n",
    "    best_trajectory = breadth_first_search(env)\n",
    "    qwen_trajectory, qwen_nodes, qwen_time = solver_qwen.solve(env, log_path=f\"../docs/comparisons/output/{env_name}/qwen_\", agent_player_model=\"qwen3:32b\")\n",
    "    deepseek_trajectory, deepseek_nodes, deepseek_time = solver_deepseek.solve(env, log_path=f\"../docs/comparisons/output/{env_name}/deepseek_\", agent_player_model=\"deepseek-r1:70b\")\n",
    "    chatgpt_trajectory, chatgpt_nodes, chatgpt_time = solver_chatgpt.solve(env, log_path=f\"../docs/comparisons/output/{env_name}/chatgpt_\", agent_player_model=\"gpt-oss:120b\")\n",
    "    rs_trajectory, rs_nodes, rs_time = random_sampling_solver.solve(env, log_path=f\"../docs/comparisons/output/{env_name}/rs_\")\n",
    "    r_trajectory, r_nodes, r_time = random_solver.solve(env, log_path=f\"../docs/comparisons/output/{env_name}/r_\")\n",
    "    write_to_summary({'id': env_name, 'best_trajectory': best_trajectory, \n",
    "                      'qwen_trajectory': qwen_trajectory, 'qwen_nodes': qwen_nodes, 'qwen_time': qwen_time, \n",
    "                      'deepseek_trajectory': deepseek_trajectory, 'deepseek_nodes': deepseek_nodes, 'deepseek_time': deepseek_time, \n",
    "                      'chatgpt_trajectory': chatgpt_trajectory, 'chatgpt_nodes': chatgpt_nodes, 'chatgpt_time': chatgpt_time, \n",
    "                      'rs_trajectory': rs_trajectory, 'rs_nodes': rs_nodes, 'rs_time': rs_time, \n",
    "                      'r_trajectory': r_trajectory, 'r_nodes': r_nodes, 'r_time': r_time})"
   ]
  },
  {
   "cell_type": "code",
   "execution_count": 5,
   "metadata": {},
   "outputs": [],
   "source": [
    "env_name = \"\".zfill(4) + \"_default_env\"\n",
    "env = SokobanEnvImpl(max_steps=60, use_default_env=True)\n",
    "solve(env, env_name)"
   ]
  },
  {
   "cell_type": "code",
   "execution_count": null,
   "metadata": {},
   "outputs": [],
   "source": [
    "for i in range(1, 51):\n",
    "    env_name = str(i).zfill(4) + \"_generated_env\"\n",
    "    env = SokobanEnvImpl(max_steps=60).as_fixated()\n",
    "    solve(env, env_name)"
   ]
  }
 ],
 "metadata": {
  "kernelspec": {
   "display_name": "venv",
   "language": "python",
   "name": "python3"
  },
  "language_info": {
   "codemirror_mode": {
    "name": "ipython",
    "version": 3
   },
   "file_extension": ".py",
   "mimetype": "text/x-python",
   "name": "python",
   "nbconvert_exporter": "python",
   "pygments_lexer": "ipython3",
   "version": "3.13.5"
  }
 },
 "nbformat": 4,
 "nbformat_minor": 2
}
