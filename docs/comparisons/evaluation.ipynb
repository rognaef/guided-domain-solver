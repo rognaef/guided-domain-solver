{
 "cells": [
  {
   "cell_type": "code",
   "execution_count": 1,
   "id": "fcbee3e8",
   "metadata": {},
   "outputs": [],
   "source": [
    "import pandas as pd\n",
    "import seaborn as sns\n",
    "import matplotlib.pyplot as plt\n",
    "import ast"
   ]
  },
  {
   "cell_type": "code",
   "execution_count": 2,
   "id": "92e78c5c",
   "metadata": {},
   "outputs": [],
   "source": [
    "# Create dataframe of summary\n",
    "df = pd.read_csv(\"output/summary.csv\")"
   ]
  },
  {
   "cell_type": "code",
   "execution_count": 3,
   "id": "8c68ee72",
   "metadata": {},
   "outputs": [],
   "source": [
    "# Parse best_trajectory to get the best path length\n",
    "df[\"best_length\"] = df[\"best_trajectory\"].apply(lambda x: len(ast.literal_eval(x)))\n",
    "\n",
    "# Normalize node counts by subtracting 1 for the root node and dividing by the best trajectory length\n",
    "root_node_size = 1\n",
    "df[\"nodes_norm\"] = (df[\"nodes\"] - root_node_size) / df[\"best_length\"]\n",
    "df[\"rs_nodes_norm\"] = (df[\"rs_nodes\"] - root_node_size) / df[\"best_length\"]\n",
    "df[\"r_nodes_norm\"] = (df[\"r_nodes\"] - root_node_size) / df[\"best_length\"]\n",
    "\n",
    "# Melt the normalized data\n",
    "df_melted = df.melt(id_vars=\"id\", \n",
    "                    value_vars=[\"nodes_norm\", \"rs_nodes_norm\", \"r_nodes_norm\"],\n",
    "                    var_name=\"Method\",\n",
    "                    value_name=\"Normalized Nodes\")\n",
    "method_map = {\n",
    "    \"nodes_norm\": \"LLM agent\",\n",
    "    \"rs_nodes_norm\": \"Random sampling\",\n",
    "    \"r_nodes_norm\": \"Random possible action\"\n",
    "}\n",
    "df_melted[\"Method\"] = df_melted[\"Method\"].map(method_map)\n",
    "\n",
    "# Aggregate: mean normalized nodes per method\n",
    "agg_df = df_melted.groupby(\"Method\", as_index=False)[\"Normalized Nodes\"].mean().sort_values(\"Normalized Nodes\").reset_index(drop=True)\n",
    "\n",
    "# Compute differences\n",
    "min_value = agg_df[\"Normalized Nodes\"].min()\n",
    "agg_df[\"Difference\"] = agg_df[\"Normalized Nodes\"] - min_value\n",
    "\n",
    "# Create color palette dict: best gets #82B366, others get #666666\n",
    "colors = {method: '#666666' for method in agg_df[\"Method\"]}\n",
    "colors[agg_df[\"Method\"][0]] = '#82B366'\n",
    "\n",
    "# Plot\n",
    "plt.figure()\n",
    "ax = sns.barplot(data=agg_df, x=\"Method\", y=\"Normalized Nodes\", hue=\"Method\", palette=colors, legend=False)\n",
    "\n",
    "# Annotate bars\n",
    "for i, row in agg_df.iterrows():\n",
    "    diff_text = f\"+{row['Difference']:.2f}\" if row[\"Difference\"] > 0 else \"\"\n",
    "    ax.text(i, row[\"Normalized Nodes\"] + 0.02, diff_text, ha=\"center\", va=\"bottom\", fontsize=10, color=\"black\")\n",
    "\n",
    "# Make space for annotation\n",
    "ylim = ax.get_ylim()\n",
    "ax.set_ylim(ylim[0],ylim[1]*1.01)\n",
    "\n",
    "plt.title(\"Average branching factor of the search tree\")\n",
    "plt.ylabel(\"Branching factor\")\n",
    "plt.xlabel(\"\")\n",
    "plt.tight_layout()\n",
    "plt.savefig('../images/expansion_efficiency.svg', transparent=True)\n",
    "plt.savefig('../images/expansion_efficiency.png', transparent=True)\n",
    "plt.close()"
   ]
  }
 ],
 "metadata": {
  "kernelspec": {
   "display_name": "venv",
   "language": "python",
   "name": "python3"
  },
  "language_info": {
   "codemirror_mode": {
    "name": "ipython",
    "version": 3
   },
   "file_extension": ".py",
   "mimetype": "text/x-python",
   "name": "python",
   "nbconvert_exporter": "python",
   "pygments_lexer": "ipython3",
   "version": "3.10.0"
  }
 },
 "nbformat": 4,
 "nbformat_minor": 5
}
