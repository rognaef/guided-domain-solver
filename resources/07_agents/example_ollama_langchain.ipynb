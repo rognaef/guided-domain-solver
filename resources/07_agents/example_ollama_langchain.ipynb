{
 "cells": [
  {
   "cell_type": "code",
   "execution_count": 1,
   "id": "e729b032",
   "metadata": {},
   "outputs": [],
   "source": [
    "from langchain_ollama import ChatOllama\n",
    "from langchain_core.messages import AIMessage"
   ]
  },
  {
   "cell_type": "code",
   "execution_count": 2,
   "id": "52a66963",
   "metadata": {},
   "outputs": [],
   "source": [
    "llm = ChatOllama(\n",
    "    model=\"qwen2.5-coder:7b\",\n",
    "    temperature=0,\n",
    "    # other params...\n",
    ")"
   ]
  },
  {
   "cell_type": "code",
   "execution_count": 3,
   "id": "0640cbc0",
   "metadata": {},
   "outputs": [
    {
     "data": {
      "text/plain": [
       "AIMessage(content='Je aime programmer.', additional_kwargs={}, response_metadata={'model': 'qwen2.5-coder:7b', 'created_at': '2025-05-16T09:54:29.6815792Z', 'done': True, 'done_reason': 'stop', 'total_duration': 241231800, 'load_duration': 13171800, 'prompt_eval_count': 33, 'prompt_eval_duration': 2104700, 'eval_count': 5, 'eval_duration': 225424300, 'model_name': 'qwen2.5-coder:7b'}, id='run--df008093-8daf-4f43-8ae0-2ad304f93b64-0', usage_metadata={'input_tokens': 33, 'output_tokens': 5, 'total_tokens': 38})"
      ]
     },
     "execution_count": 3,
     "metadata": {},
     "output_type": "execute_result"
    }
   ],
   "source": [
    "messages = [\n",
    "    (\n",
    "        \"system\",\n",
    "        \"You are a helpful assistant that translates English to French. Translate the user sentence.\",\n",
    "    ),\n",
    "    (\"human\", \"I love programming.\"),\n",
    "]\n",
    "ai_msg = llm.invoke(messages)\n",
    "ai_msg"
   ]
  },
  {
   "cell_type": "code",
   "execution_count": 4,
   "id": "25cd15e0",
   "metadata": {},
   "outputs": [],
   "source": [
    "#imports from other directory\n",
    "import sys, os\n",
    "sys.path.insert(0, os.path.abspath('../../00_src'))\n",
    "from agents.agent_ollama import AgentOllama\n",
    "del sys.path[0]"
   ]
  },
  {
   "cell_type": "code",
   "execution_count": 5,
   "id": "61fd6173",
   "metadata": {},
   "outputs": [],
   "source": [
    "testee = AgentOllama(\"qwen2.5-coder:7b\",\n",
    "                     [(\"system\", \"You are a helpful assistant that translates {input_language} to {output_language}.\",),        \n",
    "                      (\"human\", \"{input}\"),])"
   ]
  },
  {
   "cell_type": "code",
   "execution_count": 6,
   "id": "36c72030",
   "metadata": {},
   "outputs": [],
   "source": [
    "import logging\n",
    "testee.logger.addHandler(logging.StreamHandler(sys.stdout))"
   ]
  },
  {
   "cell_type": "code",
   "execution_count": 7,
   "id": "ebc07410",
   "metadata": {},
   "outputs": [
    {
     "name": "stdout",
     "output_type": "stream",
     "text": [
      "messages=[SystemMessage(content='You are a helpful assistant that translates English to German.', additional_kwargs={}, response_metadata={}), HumanMessage(content='I love programming.', additional_kwargs={}, response_metadata={})]\n",
      "[AIMessage(content='Ich liebe Programmieren.', additional_kwargs={}, response_metadata={'model': 'qwen2.5-coder:7b', 'created_at': '2025-05-16T09:54:30.517154Z', 'done': True, 'done_reason': 'stop', 'total_duration': 87723500, 'load_duration': 12771000, 'prompt_eval_count': 28, 'prompt_eval_duration': 3562200, 'eval_count': 6, 'eval_duration': 69324700, 'model_name': 'qwen2.5-coder:7b'}, id='run--be2bdb65-ba43-4caf-a9bb-8e823aa60d25-0', usage_metadata={'input_tokens': 28, 'output_tokens': 6, 'total_tokens': 34})]\n"
     ]
    },
    {
     "data": {
      "text/plain": [
       "'Ich liebe Programmieren.'"
      ]
     },
     "execution_count": 7,
     "metadata": {},
     "output_type": "execute_result"
    }
   ],
   "source": [
    "testee.invoke({\n",
    "        \"input_language\": \"English\",\n",
    "        \"output_language\": \"German\",\n",
    "        \"input\": \"I love programming.\"})"
   ]
  }
 ],
 "metadata": {
  "kernelspec": {
   "display_name": "venv",
   "language": "python",
   "name": "python3"
  },
  "language_info": {
   "codemirror_mode": {
    "name": "ipython",
    "version": 3
   },
   "file_extension": ".py",
   "mimetype": "text/x-python",
   "name": "python",
   "nbconvert_exporter": "python",
   "pygments_lexer": "ipython3",
   "version": "3.10.14"
  }
 },
 "nbformat": 4,
 "nbformat_minor": 5
}
