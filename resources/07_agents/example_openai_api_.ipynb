{
 "cells": [
  {
   "cell_type": "code",
   "execution_count": 9,
   "metadata": {},
   "outputs": [],
   "source": [
    "import os\n",
    "from openai import OpenAI\n",
    "from dotenv import load_dotenv\n",
    "from pathlib import Path\n",
    "\n",
    "load_dotenv(dotenv_path=Path(\"../.env\"))\n",
    "\n",
    "api_key = os.getenv(\"OPENAI_API_KEY\")\n",
    "base_url = os.getenv(\"OPENAI_API_BASE_URL\")\n",
    "\n",
    "system_prompt = \"You are a travel agent. Be descriptive and helpful.\"\n",
    "user_prompt = \"Tell me about San Francisco\"\n",
    "\n",
    "agent = OpenAI(api_key=api_key, base_url=base_url)"
   ]
  },
  {
   "cell_type": "code",
   "execution_count": 10,
   "metadata": {},
   "outputs": [
    {
     "name": "stdout",
     "output_type": "stream",
     "text": [
      "User: Tell me about San Francisco\n",
      "AI:  San Francisco, often referred to as \"The City by the Bay,\" is a vibrant and culturally rich city located on the west coast of the United States. Known for its picturesque hilly streets, iconic landmarks, and diverse neighborhoods, San Francisco offers a unique blend of urban sophistication and natural beauty.\n",
      "\n",
      "One of the city's most famous landmarks is the Golden Gate Bridge, a suspension bridge that spans the Golden Gate Strait, connecting San Francisco to Marin County. Another must-see is Alcatraz Island, home to the notorious Alcatraz Federal Penitentiary. You can take a ferry to the island to explore its history and learn about the prisoners who once called it home.\n",
      "\n",
      "San Francisco is also known for its vibrant neighborhoods. Fisherman's Wharf is a popular tourist destination with numerous shops, restaurants, and attractions, including the famous sea lion colony at Pier 39. Chinatown is the oldest Chinatown in North America and offers a unique cultural experience with its colorful streets, traditional shops, and delicious food. The Haight-Ashbury neighborhood, famous for the 1960s counterculture\n"
     ]
    }
   ],
   "source": [
    "completion = agent.chat.completions.create(\n",
    "        model=\"mistralai/Mistral-7B-Instruct-v0.2\",\n",
    "        messages=[\n",
    "            {\"role\": \"system\", \"content\": system_prompt},\n",
    "            {\"role\": \"user\", \"content\": user_prompt},\n",
    "        ],\n",
    "        temperature=0.7,\n",
    "        max_tokens=256,\n",
    "    )\n",
    "\n",
    "response = completion.choices[0].message.content\n",
    "\n",
    "print(\"User:\", user_prompt)\n",
    "print(\"AI:\", response)"
   ]
  }
 ],
 "metadata": {
  "kernelspec": {
   "display_name": "venv",
   "language": "python",
   "name": "python3"
  },
  "language_info": {
   "codemirror_mode": {
    "name": "ipython",
    "version": 3
   },
   "file_extension": ".py",
   "mimetype": "text/x-python",
   "name": "python",
   "nbconvert_exporter": "python",
   "pygments_lexer": "ipython3",
   "version": "3.10.0"
  }
 },
 "nbformat": 4,
 "nbformat_minor": 2
}
